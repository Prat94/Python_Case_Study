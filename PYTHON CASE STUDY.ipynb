{
 "cells": [
  {
   "cell_type": "code",
   "execution_count": 40,
   "metadata": {},
   "outputs": [],
   "source": [
    "import pandas as pd\n",
    "df = pd.read_csv('airlines.csv')\n"
   ]
  },
  {
   "cell_type": "code",
   "execution_count": 41,
   "metadata": {},
   "outputs": [
    {
     "name": "stdout",
     "output_type": "stream",
     "text": [
      "             date  sched_dep_time  dep_time  sched_arr_time  arr_time carrier  \\\n",
      "0        1/1/2013             515     517.0             819     830.0      UA   \n",
      "1        1/1/2013             529     533.0             830     850.0      UA   \n",
      "2        1/1/2013             540     542.0             850     923.0      AA   \n",
      "3        1/1/2013             545     544.0            1022    1004.0      B6   \n",
      "4        1/1/2013             600     554.0             837     812.0      DL   \n",
      "...           ...             ...       ...             ...       ...     ...   \n",
      "336771  9/30/2013            1455       NaN            1634       NaN      9E   \n",
      "336772  9/30/2013            2200       NaN            2312       NaN      9E   \n",
      "336773  9/30/2013            1210       NaN            1330       NaN      MQ   \n",
      "336774  9/30/2013            1159       NaN            1344       NaN      MQ   \n",
      "336775  9/30/2013             840       NaN            1020       NaN      MQ   \n",
      "\n",
      "        flight tailnum origin dest  distance    air_time  \n",
      "0         1545  N14228    EWR  IAH      1400  227.000000  \n",
      "1         1714  N24211    LGA  IAH      1416  227.000000  \n",
      "2         1141  N619AA    JFK  MIA      1089  160.000000  \n",
      "3          725  N804JB    JFK  BQN      1576  183.000000  \n",
      "4          461  N668DN    LGA  ATL       762  116.000000  \n",
      "...        ...     ...    ...  ...       ...         ...  \n",
      "336771    3393     NaN    JFK  DCA       213   45.698318  \n",
      "336772    3525     NaN    LGA  SYR       198   38.086207  \n",
      "336773    3461  N535MQ    LGA  BNA       764  113.372319  \n",
      "336774    3572  N511MQ    LGA  CLE       419   69.386115  \n",
      "336775    3531  N839MQ    LGA  RDU       431   70.668153  \n",
      "\n",
      "[336776 rows x 12 columns]\n"
     ]
    }
   ],
   "source": [
    "import pandas as pd\n",
    "df= pd.read_csv('flights.csv')\n",
    "print(flights)\n"
   ]
  },
  {
   "cell_type": "code",
   "execution_count": 42,
   "metadata": {},
   "outputs": [
    {
     "name": "stdout",
     "output_type": "stream",
     "text": [
      "date                 0\n",
      "sched_dep_time       0\n",
      "dep_time          8255\n",
      "sched_arr_time       0\n",
      "arr_time          8713\n",
      "carrier              0\n",
      "flight               0\n",
      "tailnum           2512\n",
      "origin               0\n",
      "dest                 0\n",
      "distance             0\n",
      "air_time          9430\n",
      "dtype: int64\n"
     ]
    }
   ],
   "source": [
    "import pandas as pd\n",
    "\n",
    "# flights dataset\n",
    "flights = pd.read_csv('flights.csv')\n",
    "\n",
    "# Calculate the missing values present in each variable\n",
    "missing_values = flights.isna().sum()\n",
    "\n",
    "# Print the missing values for each variable\n",
    "print(missing_values)\n"
   ]
  },
  {
   "cell_type": "code",
   "execution_count": 43,
   "metadata": {},
   "outputs": [
    {
     "name": "stdout",
     "output_type": "stream",
     "text": [
      "(328063, 12)\n"
     ]
    }
   ],
   "source": [
    "import pandas as pd\n",
    "\n",
    "# Load the flights dataset\n",
    "flights = pd.read_csv('flights.csv')\n",
    "\n",
    "# Drop all observations where a missing value is present in tail number, departure time, or arrival time\n",
    "flights1 = flights.dropna(subset=['tailnum', 'dep_time', 'arr_time'])\n",
    "\n",
    "# Print the updated shape of the dataset\n",
    "print(flights1.shape)\n"
   ]
  },
  {
   "cell_type": "code",
   "execution_count": 44,
   "metadata": {},
   "outputs": [
    {
     "name": "stdout",
     "output_type": "stream",
     "text": [
      "origin  dest  carrier\n",
      "EWR     ALB   EV          31.787081\n",
      "        ANC   UA         413.125000\n",
      "        ATL   9E         111.000000\n",
      "              DL         110.853659\n",
      "              EV         114.042322\n",
      "                            ...    \n",
      "LGA     TVC   EV          91.250000\n",
      "              MQ          98.666667\n",
      "        TYS   9E          97.818868\n",
      "        XNA   EV         154.000000\n",
      "              MQ         173.192090\n",
      "Name: air_time, Length: 439, dtype: float64\n",
      "       date  sched_dep_time  dep_time  sched_arr_time  arr_time carrier  \\\n",
      "0  1/1/2013             515     517.0             819     830.0      UA   \n",
      "1  1/1/2013             529     533.0             830     850.0      UA   \n",
      "2  1/1/2013             540     542.0             850     923.0      AA   \n",
      "3  1/1/2013             545     544.0            1022    1004.0      B6   \n",
      "4  1/1/2013             600     554.0             837     812.0      DL   \n",
      "\n",
      "   flight tailnum origin dest  distance  air_time  \n",
      "0    1545  N14228    EWR  IAH      1400     227.0  \n",
      "1    1714  N24211    LGA  IAH      1416     227.0  \n",
      "2    1141  N619AA    JFK  MIA      1089     160.0  \n",
      "3     725  N804JB    JFK  BQN      1576     183.0  \n",
      "4     461  N668DN    LGA  ATL       762     116.0  \n"
     ]
    }
   ],
   "source": [
    "import pandas as pd\n",
    "\n",
    "# Load the flights dataset\n",
    "flights = pd.read_csv('flights.csv')\n",
    "\n",
    "# Group the data by origin airport, destination airport, and carrier, and calculate the mean airtime for each group\n",
    "mean_airtime = flights.groupby(['origin', 'dest', 'carrier'])['air_time'].mean()\n",
    "print (mean_airtime)\n",
    "\n",
    "\n",
    "# Define a function to replace missing values with the corresponding mean airtime\n",
    "def replace_missing_airtime(row):\n",
    "    if pd.isna(row['air_time']):\n",
    "        return mean_airtime[(row['origin'], row['dest'], row['carrier'])]\n",
    "    else:\n",
    "        return row['air_time']\n",
    "    print(mean_airtime)\n",
    "\n",
    "# Replace missing values in the Air_time column with the corresponding mean values\n",
    "flights['air_time'] = flights.apply(replace_missing_airtime, axis=1)\n",
    "\n",
    "# Print the updated flights dataset\n",
    "print(flights.head())\n"
   ]
  },
  {
   "cell_type": "code",
   "execution_count": 45,
   "metadata": {},
   "outputs": [
    {
     "name": "stdout",
     "output_type": "stream",
     "text": [
      "date                 0\n",
      "sched_dep_time       0\n",
      "dep_time          8255\n",
      "sched_arr_time       0\n",
      "arr_time          8713\n",
      "carrier              0\n",
      "flight               0\n",
      "tailnum           2512\n",
      "origin               0\n",
      "dest                 0\n",
      "distance             0\n",
      "air_time             2\n",
      "dtype: int64\n"
     ]
    }
   ],
   "source": [
    "# Calculate the missing values present in each variable\n",
    "missing_values = flights.isna().sum()\n",
    "\n",
    "# Print the missing values for each variable\n",
    "print(missing_values)\n"
   ]
  },
  {
   "cell_type": "code",
   "execution_count": 25,
   "metadata": {},
   "outputs": [
    {
     "ename": "KeyError",
     "evalue": "''",
     "output_type": "error",
     "traceback": [
      "\u001b[1;31m---------------------------------------------------------------------------\u001b[0m",
      "\u001b[1;31mKeyError\u001b[0m                                  Traceback (most recent call last)",
      "\u001b[1;32m<ipython-input-25-d222c93378e1>\u001b[0m in \u001b[0;36m<module>\u001b[1;34m\u001b[0m\n\u001b[0;32m      8\u001b[0m \u001b[1;33m\u001b[0m\u001b[0m\n\u001b[0;32m      9\u001b[0m \u001b[1;31m# Group the data by the airport code and date, and calculate the mean values for each group\u001b[0m\u001b[1;33m\u001b[0m\u001b[1;33m\u001b[0m\u001b[1;33m\u001b[0m\u001b[0m\n\u001b[1;32m---> 10\u001b[1;33m \u001b[0mmean_weather\u001b[0m \u001b[1;33m=\u001b[0m \u001b[0mweather\u001b[0m\u001b[1;33m.\u001b[0m\u001b[0mgroupby\u001b[0m\u001b[1;33m(\u001b[0m\u001b[1;33m[\u001b[0m\u001b[1;34m'temp'\u001b[0m\u001b[1;33m,\u001b[0m\u001b[1;34m''\u001b[0m\u001b[1;33m,\u001b[0m \u001b[1;34m'date'\u001b[0m\u001b[1;33m]\u001b[0m\u001b[1;33m)\u001b[0m\u001b[1;33m.\u001b[0m\u001b[0mmean\u001b[0m\u001b[1;33m(\u001b[0m\u001b[1;33m)\u001b[0m\u001b[1;33m\u001b[0m\u001b[1;33m\u001b[0m\u001b[0m\n\u001b[0m\u001b[0;32m     11\u001b[0m \u001b[1;33m\u001b[0m\u001b[0m\n\u001b[0;32m     12\u001b[0m \u001b[1;31m# Fill in the missing values in the original DataFrame with the mean values from each group\u001b[0m\u001b[1;33m\u001b[0m\u001b[1;33m\u001b[0m\u001b[1;33m\u001b[0m\u001b[0m\n",
      "\u001b[1;32mE:\\Softwares\\lib\\site-packages\\pandas\\core\\frame.py\u001b[0m in \u001b[0;36mgroupby\u001b[1;34m(self, by, axis, level, as_index, sort, group_keys, squeeze, observed, dropna)\u001b[0m\n\u001b[0;32m   6509\u001b[0m         \u001b[0maxis\u001b[0m \u001b[1;33m=\u001b[0m \u001b[0mself\u001b[0m\u001b[1;33m.\u001b[0m\u001b[0m_get_axis_number\u001b[0m\u001b[1;33m(\u001b[0m\u001b[0maxis\u001b[0m\u001b[1;33m)\u001b[0m\u001b[1;33m\u001b[0m\u001b[1;33m\u001b[0m\u001b[0m\n\u001b[0;32m   6510\u001b[0m \u001b[1;33m\u001b[0m\u001b[0m\n\u001b[1;32m-> 6511\u001b[1;33m         return DataFrameGroupBy(\n\u001b[0m\u001b[0;32m   6512\u001b[0m             \u001b[0mobj\u001b[0m\u001b[1;33m=\u001b[0m\u001b[0mself\u001b[0m\u001b[1;33m,\u001b[0m\u001b[1;33m\u001b[0m\u001b[1;33m\u001b[0m\u001b[0m\n\u001b[0;32m   6513\u001b[0m             \u001b[0mkeys\u001b[0m\u001b[1;33m=\u001b[0m\u001b[0mby\u001b[0m\u001b[1;33m,\u001b[0m\u001b[1;33m\u001b[0m\u001b[1;33m\u001b[0m\u001b[0m\n",
      "\u001b[1;32mE:\\Softwares\\lib\\site-packages\\pandas\\core\\groupby\\groupby.py\u001b[0m in \u001b[0;36m__init__\u001b[1;34m(self, obj, keys, axis, level, grouper, exclusions, selection, as_index, sort, group_keys, squeeze, observed, mutated, dropna)\u001b[0m\n\u001b[0;32m    523\u001b[0m             \u001b[1;32mfrom\u001b[0m \u001b[0mpandas\u001b[0m\u001b[1;33m.\u001b[0m\u001b[0mcore\u001b[0m\u001b[1;33m.\u001b[0m\u001b[0mgroupby\u001b[0m\u001b[1;33m.\u001b[0m\u001b[0mgrouper\u001b[0m \u001b[1;32mimport\u001b[0m \u001b[0mget_grouper\u001b[0m\u001b[1;33m\u001b[0m\u001b[1;33m\u001b[0m\u001b[0m\n\u001b[0;32m    524\u001b[0m \u001b[1;33m\u001b[0m\u001b[0m\n\u001b[1;32m--> 525\u001b[1;33m             grouper, exclusions, obj = get_grouper(\n\u001b[0m\u001b[0;32m    526\u001b[0m                 \u001b[0mobj\u001b[0m\u001b[1;33m,\u001b[0m\u001b[1;33m\u001b[0m\u001b[1;33m\u001b[0m\u001b[0m\n\u001b[0;32m    527\u001b[0m                 \u001b[0mkeys\u001b[0m\u001b[1;33m,\u001b[0m\u001b[1;33m\u001b[0m\u001b[1;33m\u001b[0m\u001b[0m\n",
      "\u001b[1;32mE:\\Softwares\\lib\\site-packages\\pandas\\core\\groupby\\grouper.py\u001b[0m in \u001b[0;36mget_grouper\u001b[1;34m(obj, key, axis, level, sort, observed, mutated, validate, dropna)\u001b[0m\n\u001b[0;32m    779\u001b[0m                 \u001b[0min_axis\u001b[0m\u001b[1;33m,\u001b[0m \u001b[0mname\u001b[0m\u001b[1;33m,\u001b[0m \u001b[0mlevel\u001b[0m\u001b[1;33m,\u001b[0m \u001b[0mgpr\u001b[0m \u001b[1;33m=\u001b[0m \u001b[1;32mFalse\u001b[0m\u001b[1;33m,\u001b[0m \u001b[1;32mNone\u001b[0m\u001b[1;33m,\u001b[0m \u001b[0mgpr\u001b[0m\u001b[1;33m,\u001b[0m \u001b[1;32mNone\u001b[0m\u001b[1;33m\u001b[0m\u001b[1;33m\u001b[0m\u001b[0m\n\u001b[0;32m    780\u001b[0m             \u001b[1;32melse\u001b[0m\u001b[1;33m:\u001b[0m\u001b[1;33m\u001b[0m\u001b[1;33m\u001b[0m\u001b[0m\n\u001b[1;32m--> 781\u001b[1;33m                 \u001b[1;32mraise\u001b[0m \u001b[0mKeyError\u001b[0m\u001b[1;33m(\u001b[0m\u001b[0mgpr\u001b[0m\u001b[1;33m)\u001b[0m\u001b[1;33m\u001b[0m\u001b[1;33m\u001b[0m\u001b[0m\n\u001b[0m\u001b[0;32m    782\u001b[0m         \u001b[1;32melif\u001b[0m \u001b[0misinstance\u001b[0m\u001b[1;33m(\u001b[0m\u001b[0mgpr\u001b[0m\u001b[1;33m,\u001b[0m \u001b[0mGrouper\u001b[0m\u001b[1;33m)\u001b[0m \u001b[1;32mand\u001b[0m \u001b[0mgpr\u001b[0m\u001b[1;33m.\u001b[0m\u001b[0mkey\u001b[0m \u001b[1;32mis\u001b[0m \u001b[1;32mnot\u001b[0m \u001b[1;32mNone\u001b[0m\u001b[1;33m:\u001b[0m\u001b[1;33m\u001b[0m\u001b[1;33m\u001b[0m\u001b[0m\n\u001b[0;32m    783\u001b[0m             \u001b[1;31m# Add key to exclusions\u001b[0m\u001b[1;33m\u001b[0m\u001b[1;33m\u001b[0m\u001b[1;33m\u001b[0m\u001b[0m\n",
      "\u001b[1;31mKeyError\u001b[0m: ''"
     ]
    }
   ],
   "source": [
    "import pandas as pd\n",
    "\n",
    "# Load the weather data into a DataFrame\n",
    "weather = pd.read_csv('weather.csv')\n",
    "\n",
    "# weather1 = weather.dropna(subset=['temp', 'dewp', 'humid','wind_dir','pressure'])\n",
    "# print(weather1)\n",
    "\n",
    "# Group the data by the airport code and date, and calculate the mean values for each group\n",
    "mean_weather = weather.groupby(['temp','', 'date']).mean()\n",
    "\n",
    "# Fill in the missing values in the original DataFrame with the mean values from each group\n",
    "weather = weather.fillna(mean_weather)\n",
    "\n",
    "# Print the updated DataFrame\n",
    "print(weather)\n"
   ]
  },
  {
   "cell_type": "code",
   "execution_count": 27,
   "metadata": {},
   "outputs": [
    {
     "name": "stdout",
     "output_type": "stream",
     "text": [
      "      origin        date hour_sched_dep   temp   dewp  humid  wind_dir  \\\n",
      "0        EWR  01-01-2013          00:00  37.04  21.92  53.97     230.0   \n",
      "1        EWR  01-01-2013          01:00  37.04  21.92  53.97     230.0   \n",
      "2        EWR  01-01-2013          02:00  37.94  21.92  52.09     230.0   \n",
      "3        EWR  01-01-2013          03:00  37.94  23.00  54.51     230.0   \n",
      "4        EWR  01-01-2013          04:00  37.94  24.08  57.04     240.0   \n",
      "...      ...         ...            ...    ...    ...    ...       ...   \n",
      "26125    LGA  12/30/2013          13:00  35.96  19.94  51.78     340.0   \n",
      "26126    LGA  12/30/2013          14:00  33.98  17.06  49.51     330.0   \n",
      "26127    LGA  12/30/2013          15:00  32.00  15.08  49.19     340.0   \n",
      "26128    LGA  12/30/2013          16:00  30.92  12.92  46.74     320.0   \n",
      "26129    LGA  12/30/2013          17:00  28.94  10.94  46.41     330.0   \n",
      "\n",
      "       wind_speed  wind_gust  precip  pressure  visib  \n",
      "0        10.35702  11.918651     0.0    1013.9   10.0  \n",
      "1        13.80936  15.891535     0.0    1013.0   10.0  \n",
      "2        12.65858  14.567241     0.0    1012.6   10.0  \n",
      "3        13.80936  15.891535     0.0    1012.7   10.0  \n",
      "4        14.96014  17.215830     0.0    1012.8   10.0  \n",
      "...           ...        ...     ...       ...    ...  \n",
      "26125    13.80936  15.891535     0.0    1017.1   10.0  \n",
      "26126    17.26170  19.864419     0.0    1018.8   10.0  \n",
      "26127    14.96014  17.215830     0.0    1019.5   10.0  \n",
      "26128    17.26170  19.864419     0.0    1019.9   10.0  \n",
      "26129    18.41248  21.188714     0.0    1020.9   10.0  \n",
      "\n",
      "[26130 rows x 12 columns]\n"
     ]
    }
   ],
   "source": [
    "import pandas as pd\n",
    "weather= pd.read_csv('weather.csv')\n",
    "print (weather)"
   ]
  },
  {
   "cell_type": "code",
   "execution_count": 30,
   "metadata": {},
   "outputs": [],
   "source": [
    " weather1 = weather.dropna(subset=['temp',\n",
    "'dewp',                 \n",
    "'humid',                \n",
    "'wind_dir',           \n",
    "'wind_speed',           \n",
    "'wind_gust', 'pressure'])\n",
    "    \n"
   ]
  },
  {
   "cell_type": "code",
   "execution_count": 31,
   "metadata": {},
   "outputs": [
    {
     "name": "stdout",
     "output_type": "stream",
     "text": [
      "origin            0\n",
      "date              0\n",
      "hour_sched_dep    0\n",
      "temp              0\n",
      "dewp              0\n",
      "humid             0\n",
      "wind_dir          0\n",
      "wind_speed        0\n",
      "wind_gust         0\n",
      "precip            0\n",
      "pressure          0\n",
      "visib             0\n",
      "dtype: int64\n"
     ]
    }
   ],
   "source": [
    "    \n",
    "missing_values_weather1= weather1.isna().sum()\n",
    "print (missing_values_weather1)"
   ]
  },
  {
   "cell_type": "code",
   "execution_count": 37,
   "metadata": {},
   "outputs": [
    {
     "name": "stdout",
     "output_type": "stream",
     "text": [
      "temp          23021\n",
      "dewp          23021\n",
      "humid         23021\n",
      "wind_dir      23021\n",
      "wind_speed    23021\n",
      "wind_gust     23021\n",
      "precip        23021\n",
      "pressure      23021\n",
      "visib         23021\n",
      "dtype: int64\n"
     ]
    }
   ],
   "source": [
    "string_cols = weather1.select_dtypes(include=['float'])\n",
    "string_counts = string_cols.count()\n",
    "\n",
    "print(string_counts)"
   ]
  },
  {
   "cell_type": "code",
   "execution_count": 42,
   "metadata": {},
   "outputs": [
    {
     "ename": "DataError",
     "evalue": "No numeric types to aggregate",
     "output_type": "error",
     "traceback": [
      "\u001b[1;31m---------------------------------------------------------------------------\u001b[0m",
      "\u001b[1;31mDataError\u001b[0m                                 Traceback (most recent call last)",
      "\u001b[1;32m<ipython-input-42-8ec859fce3a0>\u001b[0m in \u001b[0;36m<module>\u001b[1;34m\u001b[0m\n\u001b[0;32m      1\u001b[0m \u001b[1;31m# Group the data by the airport code and date, and calculate the mean values for each group\u001b[0m\u001b[1;33m\u001b[0m\u001b[1;33m\u001b[0m\u001b[1;33m\u001b[0m\u001b[0m\n\u001b[1;32m----> 2\u001b[1;33m mean_weather = weather1.groupby(['temp','dewp',                 \n\u001b[0m\u001b[0;32m      3\u001b[0m \u001b[1;34m'humid'\u001b[0m\u001b[1;33m,\u001b[0m\u001b[1;33m\u001b[0m\u001b[1;33m\u001b[0m\u001b[0m\n\u001b[0;32m      4\u001b[0m \u001b[1;34m'wind_dir'\u001b[0m\u001b[1;33m,\u001b[0m\u001b[1;33m\u001b[0m\u001b[1;33m\u001b[0m\u001b[0m\n\u001b[0;32m      5\u001b[0m \u001b[1;34m'wind_speed'\u001b[0m\u001b[1;33m,\u001b[0m\u001b[1;33m\u001b[0m\u001b[1;33m\u001b[0m\u001b[0m\n",
      "\u001b[1;32mE:\\Softwares\\lib\\site-packages\\pandas\\core\\groupby\\groupby.py\u001b[0m in \u001b[0;36mmean\u001b[1;34m(self, numeric_only)\u001b[0m\n\u001b[0;32m   1391\u001b[0m         \u001b[0mName\u001b[0m\u001b[1;33m:\u001b[0m \u001b[0mB\u001b[0m\u001b[1;33m,\u001b[0m \u001b[0mdtype\u001b[0m\u001b[1;33m:\u001b[0m \u001b[0mfloat64\u001b[0m\u001b[1;33m\u001b[0m\u001b[1;33m\u001b[0m\u001b[0m\n\u001b[0;32m   1392\u001b[0m         \"\"\"\n\u001b[1;32m-> 1393\u001b[1;33m         return self._cython_agg_general(\n\u001b[0m\u001b[0;32m   1394\u001b[0m             \u001b[1;34m\"mean\"\u001b[0m\u001b[1;33m,\u001b[0m\u001b[1;33m\u001b[0m\u001b[1;33m\u001b[0m\u001b[0m\n\u001b[0;32m   1395\u001b[0m             \u001b[0malt\u001b[0m\u001b[1;33m=\u001b[0m\u001b[1;32mlambda\u001b[0m \u001b[0mx\u001b[0m\u001b[1;33m,\u001b[0m \u001b[0maxis\u001b[0m\u001b[1;33m:\u001b[0m \u001b[0mSeries\u001b[0m\u001b[1;33m(\u001b[0m\u001b[0mx\u001b[0m\u001b[1;33m)\u001b[0m\u001b[1;33m.\u001b[0m\u001b[0mmean\u001b[0m\u001b[1;33m(\u001b[0m\u001b[0mnumeric_only\u001b[0m\u001b[1;33m=\u001b[0m\u001b[0mnumeric_only\u001b[0m\u001b[1;33m)\u001b[0m\u001b[1;33m,\u001b[0m\u001b[1;33m\u001b[0m\u001b[1;33m\u001b[0m\u001b[0m\n",
      "\u001b[1;32mE:\\Softwares\\lib\\site-packages\\pandas\\core\\groupby\\generic.py\u001b[0m in \u001b[0;36m_cython_agg_general\u001b[1;34m(self, how, alt, numeric_only, min_count)\u001b[0m\n\u001b[0;32m   1019\u001b[0m         \u001b[0mself\u001b[0m\u001b[1;33m,\u001b[0m \u001b[0mhow\u001b[0m\u001b[1;33m:\u001b[0m \u001b[0mstr\u001b[0m\u001b[1;33m,\u001b[0m \u001b[0malt\u001b[0m\u001b[1;33m=\u001b[0m\u001b[1;32mNone\u001b[0m\u001b[1;33m,\u001b[0m \u001b[0mnumeric_only\u001b[0m\u001b[1;33m:\u001b[0m \u001b[0mbool\u001b[0m \u001b[1;33m=\u001b[0m \u001b[1;32mTrue\u001b[0m\u001b[1;33m,\u001b[0m \u001b[0mmin_count\u001b[0m\u001b[1;33m:\u001b[0m \u001b[0mint\u001b[0m \u001b[1;33m=\u001b[0m \u001b[1;33m-\u001b[0m\u001b[1;36m1\u001b[0m\u001b[1;33m\u001b[0m\u001b[1;33m\u001b[0m\u001b[0m\n\u001b[0;32m   1020\u001b[0m     ) -> DataFrame:\n\u001b[1;32m-> 1021\u001b[1;33m         agg_blocks, agg_items = self._cython_agg_blocks(\n\u001b[0m\u001b[0;32m   1022\u001b[0m             \u001b[0mhow\u001b[0m\u001b[1;33m,\u001b[0m \u001b[0malt\u001b[0m\u001b[1;33m=\u001b[0m\u001b[0malt\u001b[0m\u001b[1;33m,\u001b[0m \u001b[0mnumeric_only\u001b[0m\u001b[1;33m=\u001b[0m\u001b[0mnumeric_only\u001b[0m\u001b[1;33m,\u001b[0m \u001b[0mmin_count\u001b[0m\u001b[1;33m=\u001b[0m\u001b[0mmin_count\u001b[0m\u001b[1;33m\u001b[0m\u001b[1;33m\u001b[0m\u001b[0m\n\u001b[0;32m   1023\u001b[0m         )\n",
      "\u001b[1;32mE:\\Softwares\\lib\\site-packages\\pandas\\core\\groupby\\generic.py\u001b[0m in \u001b[0;36m_cython_agg_blocks\u001b[1;34m(self, how, alt, numeric_only, min_count)\u001b[0m\n\u001b[0;32m   1128\u001b[0m \u001b[1;33m\u001b[0m\u001b[0m\n\u001b[0;32m   1129\u001b[0m         \u001b[1;32mif\u001b[0m \u001b[1;32mnot\u001b[0m \u001b[1;33m(\u001b[0m\u001b[0magg_blocks\u001b[0m \u001b[1;32mor\u001b[0m \u001b[0msplit_frames\u001b[0m\u001b[1;33m)\u001b[0m\u001b[1;33m:\u001b[0m\u001b[1;33m\u001b[0m\u001b[1;33m\u001b[0m\u001b[0m\n\u001b[1;32m-> 1130\u001b[1;33m             \u001b[1;32mraise\u001b[0m \u001b[0mDataError\u001b[0m\u001b[1;33m(\u001b[0m\u001b[1;34m\"No numeric types to aggregate\"\u001b[0m\u001b[1;33m)\u001b[0m\u001b[1;33m\u001b[0m\u001b[1;33m\u001b[0m\u001b[0m\n\u001b[0m\u001b[0;32m   1131\u001b[0m \u001b[1;33m\u001b[0m\u001b[0m\n\u001b[0;32m   1132\u001b[0m         \u001b[1;32mif\u001b[0m \u001b[0msplit_items\u001b[0m\u001b[1;33m:\u001b[0m\u001b[1;33m\u001b[0m\u001b[1;33m\u001b[0m\u001b[0m\n",
      "\u001b[1;31mDataError\u001b[0m: No numeric types to aggregate"
     ]
    }
   ],
   "source": [
    "# Group the data by the airport code and date, and calculate the mean values for each group\n",
    "mean_weather = weather1.groupby(['temp','dewp',                 \n",
    "'humid',                \n",
    "'wind_dir',           \n",
    "'wind_speed',           \n",
    "'wind_gust',            \n",
    "'precip',               \n",
    "'pressure',          \n",
    "'visib']).mean()"
   ]
  },
  {
   "cell_type": "code",
   "execution_count": 34,
   "metadata": {},
   "outputs": [
    {
     "name": "stdout",
     "output_type": "stream",
     "text": [
      "                                         wind_gust  precip  pressure  visib\n",
      "temp   dewp   humid wind_dir wind_speed                                    \n",
      "10.94  -4.00  50.19 270.0    10.35702    11.918651     0.0    1023.8   10.0\n",
      "                             11.50780    13.242946     0.0    1024.0   10.0\n",
      "12.02  -7.06  41.28 270.0    10.35702    11.918651     0.0    1023.7   10.0\n",
      "                    280.0    12.65858    14.567241     0.0    1023.7   10.0\n",
      "       -5.98  43.50 270.0    8.05546      9.270062     0.0    1023.5   10.0\n",
      "...                                            ...     ...       ...    ...\n",
      "98.96   71.06 40.82 250.0    20.71404    23.837303     0.0    1011.0   10.0\n",
      "        71.96 42.09 240.0    16.11092    18.540125     0.0    1010.1    9.0\n",
      "                    260.0    18.41248    21.188714     0.0    1011.7   10.0\n",
      "100.04  66.02 33.23 300.0    9.20624     10.594357     0.0    1015.0   10.0\n",
      "        71.06 39.51 230.0    20.71404    23.837303     0.0    1009.4   10.0\n",
      "\n",
      "[21812 rows x 4 columns]\n"
     ]
    }
   ],
   "source": [
    "print(mean_weather)"
   ]
  },
  {
   "cell_type": "code",
   "execution_count": 43,
   "metadata": {},
   "outputs": [
    {
     "name": "stdout",
     "output_type": "stream",
     "text": [
      "origin             object\n",
      "date               object\n",
      "hour_sched_dep     object\n",
      "temp              float64\n",
      "dewp              float64\n",
      "humid             float64\n",
      "wind_dir          float64\n",
      "wind_speed        float64\n",
      "wind_gust         float64\n",
      "precip            float64\n",
      "pressure          float64\n",
      "visib             float64\n",
      "dtype: object\n"
     ]
    }
   ],
   "source": [
    "print(weather1.dtypes)"
   ]
  },
  {
   "cell_type": "code",
   "execution_count": 44,
   "metadata": {},
   "outputs": [
    {
     "name": "stdout",
     "output_type": "stream",
     "text": [
      "<bound method DataFrame.info of       origin        date hour_sched_dep   temp   dewp  humid  wind_dir  \\\n",
      "0        EWR  01-01-2013          00:00  37.04  21.92  53.97     230.0   \n",
      "1        EWR  01-01-2013          01:00  37.04  21.92  53.97     230.0   \n",
      "2        EWR  01-01-2013          02:00  37.94  21.92  52.09     230.0   \n",
      "3        EWR  01-01-2013          03:00  37.94  23.00  54.51     230.0   \n",
      "4        EWR  01-01-2013          04:00  37.94  24.08  57.04     240.0   \n",
      "...      ...         ...            ...    ...    ...    ...       ...   \n",
      "26125    LGA  12/30/2013          13:00  35.96  19.94  51.78     340.0   \n",
      "26126    LGA  12/30/2013          14:00  33.98  17.06  49.51     330.0   \n",
      "26127    LGA  12/30/2013          15:00  32.00  15.08  49.19     340.0   \n",
      "26128    LGA  12/30/2013          16:00  30.92  12.92  46.74     320.0   \n",
      "26129    LGA  12/30/2013          17:00  28.94  10.94  46.41     330.0   \n",
      "\n",
      "       wind_speed  wind_gust  precip  pressure  visib  \n",
      "0        10.35702  11.918651     0.0    1013.9   10.0  \n",
      "1        13.80936  15.891535     0.0    1013.0   10.0  \n",
      "2        12.65858  14.567241     0.0    1012.6   10.0  \n",
      "3        13.80936  15.891535     0.0    1012.7   10.0  \n",
      "4        14.96014  17.215830     0.0    1012.8   10.0  \n",
      "...           ...        ...     ...       ...    ...  \n",
      "26125    13.80936  15.891535     0.0    1017.1   10.0  \n",
      "26126    17.26170  19.864419     0.0    1018.8   10.0  \n",
      "26127    14.96014  17.215830     0.0    1019.5   10.0  \n",
      "26128    17.26170  19.864419     0.0    1019.9   10.0  \n",
      "26129    18.41248  21.188714     0.0    1020.9   10.0  \n",
      "\n",
      "[23021 rows x 12 columns]>\n"
     ]
    }
   ],
   "source": [
    "print(weather1.info)"
   ]
  },
  {
   "cell_type": "code",
   "execution_count": 45,
   "metadata": {},
   "outputs": [
    {
     "name": "stdout",
     "output_type": "stream",
     "text": [
      "0\n"
     ]
    }
   ],
   "source": [
    "print(weather1['visib'].isnull().sum())"
   ]
  },
  {
   "cell_type": "code",
   "execution_count": 46,
   "metadata": {},
   "outputs": [
    {
     "name": "stdout",
     "output_type": "stream",
     "text": [
      "[10.    6.    9.    8.    7.    1.    1.5   5.    2.5   3.    0.25  0.12\n",
      "  0.5   4.    2.    0.75  1.25  0.    0.06  1.75]\n"
     ]
    }
   ],
   "source": [
    "print(weather1['visib'].unique())"
   ]
  },
  {
   "cell_type": "code",
   "execution_count": 48,
   "metadata": {},
   "outputs": [
    {
     "name": "stdout",
     "output_type": "stream",
     "text": [
      "[  11.91865148   15.8915353    14.56724069   17.21582991    9.27006226\n",
      "   13.24294608   10.59435687   21.18871373   18.54012452    7.94576765\n",
      "    3.97288382   19.86441913    6.62147304   23.83730295   27.81018678\n",
      "   25.16159756    5.29717843    0.           26.48589217   22.51300834\n",
      "   29.13448138   30.45877599   33.10736521   35.75595443   31.7830706\n",
      "   45.02601669   37.08024904   38.40454364 1206.432388     34.43165982\n",
      "   41.05313286   39.72883825   42.37742747]\n"
     ]
    }
   ],
   "source": [
    "print(weather1['wind_gust'].unique())"
   ]
  },
  {
   "cell_type": "code",
   "execution_count": 49,
   "metadata": {},
   "outputs": [],
   "source": [
    "mean_weather = weather1.groupby('visib').mean()"
   ]
  },
  {
   "cell_type": "code",
   "execution_count": 52,
   "metadata": {},
   "outputs": [
    {
     "ename": "DataError",
     "evalue": "No numeric types to aggregate",
     "output_type": "error",
     "traceback": [
      "\u001b[1;31m---------------------------------------------------------------------------\u001b[0m",
      "\u001b[1;31mDataError\u001b[0m                                 Traceback (most recent call last)",
      "\u001b[1;32m<ipython-input-52-8ec859fce3a0>\u001b[0m in \u001b[0;36m<module>\u001b[1;34m\u001b[0m\n\u001b[0;32m      1\u001b[0m \u001b[1;31m# Group the data by the airport code and date, and calculate the mean values for each group\u001b[0m\u001b[1;33m\u001b[0m\u001b[1;33m\u001b[0m\u001b[1;33m\u001b[0m\u001b[0m\n\u001b[1;32m----> 2\u001b[1;33m mean_weather = weather1.groupby(['temp','dewp',                 \n\u001b[0m\u001b[0;32m      3\u001b[0m \u001b[1;34m'humid'\u001b[0m\u001b[1;33m,\u001b[0m\u001b[1;33m\u001b[0m\u001b[1;33m\u001b[0m\u001b[0m\n\u001b[0;32m      4\u001b[0m \u001b[1;34m'wind_dir'\u001b[0m\u001b[1;33m,\u001b[0m\u001b[1;33m\u001b[0m\u001b[1;33m\u001b[0m\u001b[0m\n\u001b[0;32m      5\u001b[0m \u001b[1;34m'wind_speed'\u001b[0m\u001b[1;33m,\u001b[0m\u001b[1;33m\u001b[0m\u001b[1;33m\u001b[0m\u001b[0m\n",
      "\u001b[1;32mE:\\Softwares\\lib\\site-packages\\pandas\\core\\groupby\\groupby.py\u001b[0m in \u001b[0;36mmean\u001b[1;34m(self, numeric_only)\u001b[0m\n\u001b[0;32m   1391\u001b[0m         \u001b[0mName\u001b[0m\u001b[1;33m:\u001b[0m \u001b[0mB\u001b[0m\u001b[1;33m,\u001b[0m \u001b[0mdtype\u001b[0m\u001b[1;33m:\u001b[0m \u001b[0mfloat64\u001b[0m\u001b[1;33m\u001b[0m\u001b[1;33m\u001b[0m\u001b[0m\n\u001b[0;32m   1392\u001b[0m         \"\"\"\n\u001b[1;32m-> 1393\u001b[1;33m         return self._cython_agg_general(\n\u001b[0m\u001b[0;32m   1394\u001b[0m             \u001b[1;34m\"mean\"\u001b[0m\u001b[1;33m,\u001b[0m\u001b[1;33m\u001b[0m\u001b[1;33m\u001b[0m\u001b[0m\n\u001b[0;32m   1395\u001b[0m             \u001b[0malt\u001b[0m\u001b[1;33m=\u001b[0m\u001b[1;32mlambda\u001b[0m \u001b[0mx\u001b[0m\u001b[1;33m,\u001b[0m \u001b[0maxis\u001b[0m\u001b[1;33m:\u001b[0m \u001b[0mSeries\u001b[0m\u001b[1;33m(\u001b[0m\u001b[0mx\u001b[0m\u001b[1;33m)\u001b[0m\u001b[1;33m.\u001b[0m\u001b[0mmean\u001b[0m\u001b[1;33m(\u001b[0m\u001b[0mnumeric_only\u001b[0m\u001b[1;33m=\u001b[0m\u001b[0mnumeric_only\u001b[0m\u001b[1;33m)\u001b[0m\u001b[1;33m,\u001b[0m\u001b[1;33m\u001b[0m\u001b[1;33m\u001b[0m\u001b[0m\n",
      "\u001b[1;32mE:\\Softwares\\lib\\site-packages\\pandas\\core\\groupby\\generic.py\u001b[0m in \u001b[0;36m_cython_agg_general\u001b[1;34m(self, how, alt, numeric_only, min_count)\u001b[0m\n\u001b[0;32m   1019\u001b[0m         \u001b[0mself\u001b[0m\u001b[1;33m,\u001b[0m \u001b[0mhow\u001b[0m\u001b[1;33m:\u001b[0m \u001b[0mstr\u001b[0m\u001b[1;33m,\u001b[0m \u001b[0malt\u001b[0m\u001b[1;33m=\u001b[0m\u001b[1;32mNone\u001b[0m\u001b[1;33m,\u001b[0m \u001b[0mnumeric_only\u001b[0m\u001b[1;33m:\u001b[0m \u001b[0mbool\u001b[0m \u001b[1;33m=\u001b[0m \u001b[1;32mTrue\u001b[0m\u001b[1;33m,\u001b[0m \u001b[0mmin_count\u001b[0m\u001b[1;33m:\u001b[0m \u001b[0mint\u001b[0m \u001b[1;33m=\u001b[0m \u001b[1;33m-\u001b[0m\u001b[1;36m1\u001b[0m\u001b[1;33m\u001b[0m\u001b[1;33m\u001b[0m\u001b[0m\n\u001b[0;32m   1020\u001b[0m     ) -> DataFrame:\n\u001b[1;32m-> 1021\u001b[1;33m         agg_blocks, agg_items = self._cython_agg_blocks(\n\u001b[0m\u001b[0;32m   1022\u001b[0m             \u001b[0mhow\u001b[0m\u001b[1;33m,\u001b[0m \u001b[0malt\u001b[0m\u001b[1;33m=\u001b[0m\u001b[0malt\u001b[0m\u001b[1;33m,\u001b[0m \u001b[0mnumeric_only\u001b[0m\u001b[1;33m=\u001b[0m\u001b[0mnumeric_only\u001b[0m\u001b[1;33m,\u001b[0m \u001b[0mmin_count\u001b[0m\u001b[1;33m=\u001b[0m\u001b[0mmin_count\u001b[0m\u001b[1;33m\u001b[0m\u001b[1;33m\u001b[0m\u001b[0m\n\u001b[0;32m   1023\u001b[0m         )\n",
      "\u001b[1;32mE:\\Softwares\\lib\\site-packages\\pandas\\core\\groupby\\generic.py\u001b[0m in \u001b[0;36m_cython_agg_blocks\u001b[1;34m(self, how, alt, numeric_only, min_count)\u001b[0m\n\u001b[0;32m   1128\u001b[0m \u001b[1;33m\u001b[0m\u001b[0m\n\u001b[0;32m   1129\u001b[0m         \u001b[1;32mif\u001b[0m \u001b[1;32mnot\u001b[0m \u001b[1;33m(\u001b[0m\u001b[0magg_blocks\u001b[0m \u001b[1;32mor\u001b[0m \u001b[0msplit_frames\u001b[0m\u001b[1;33m)\u001b[0m\u001b[1;33m:\u001b[0m\u001b[1;33m\u001b[0m\u001b[1;33m\u001b[0m\u001b[0m\n\u001b[1;32m-> 1130\u001b[1;33m             \u001b[1;32mraise\u001b[0m \u001b[0mDataError\u001b[0m\u001b[1;33m(\u001b[0m\u001b[1;34m\"No numeric types to aggregate\"\u001b[0m\u001b[1;33m)\u001b[0m\u001b[1;33m\u001b[0m\u001b[1;33m\u001b[0m\u001b[0m\n\u001b[0m\u001b[0;32m   1131\u001b[0m \u001b[1;33m\u001b[0m\u001b[0m\n\u001b[0;32m   1132\u001b[0m         \u001b[1;32mif\u001b[0m \u001b[0msplit_items\u001b[0m\u001b[1;33m:\u001b[0m\u001b[1;33m\u001b[0m\u001b[1;33m\u001b[0m\u001b[0m\n",
      "\u001b[1;31mDataError\u001b[0m: No numeric types to aggregate"
     ]
    }
   ],
   "source": [
    "# Group the data by the airport code and date, and calculate the mean values for each group\n",
    "mean_weather = weather1.groupby(['temp','dewp',                 \n",
    "'humid',                \n",
    "'wind_dir',           \n",
    "'wind_speed',           \n",
    "'wind_gust',            \n",
    "'precip',               \n",
    "'pressure',          \n",
    "'visib']).mean()"
   ]
  },
  {
   "cell_type": "code",
   "execution_count": 53,
   "metadata": {},
   "outputs": [
    {
     "name": "stderr",
     "output_type": "stream",
     "text": [
      "<ipython-input-53-230f2febbe6a>:1: SettingWithCopyWarning: \n",
      "A value is trying to be set on a copy of a slice from a DataFrame.\n",
      "Try using .loc[row_indexer,col_indexer] = value instead\n",
      "\n",
      "See the caveats in the documentation: https://pandas.pydata.org/pandas-docs/stable/user_guide/indexing.html#returning-a-view-versus-a-copy\n",
      "  weather1['visib'] = pd.to_numeric(weather1['visib'], errors='coerce')\n"
     ]
    }
   ],
   "source": [
    "weather1['visib'] = pd.to_numeric(weather1['visib'], errors='coerce')"
   ]
  },
  {
   "cell_type": "code",
   "execution_count": 54,
   "metadata": {},
   "outputs": [
    {
     "name": "stderr",
     "output_type": "stream",
     "text": [
      "E:\\Softwares\\lib\\site-packages\\pandas\\core\\indexing.py:1745: SettingWithCopyWarning: \n",
      "A value is trying to be set on a copy of a slice from a DataFrame.\n",
      "Try using .loc[row_indexer,col_indexer] = value instead\n",
      "\n",
      "See the caveats in the documentation: https://pandas.pydata.org/pandas-docs/stable/user_guide/indexing.html#returning-a-view-versus-a-copy\n",
      "  isetter(ilocs[0], value)\n"
     ]
    }
   ],
   "source": [
    "weather1.loc[:, 'visib'] = pd.to_numeric(weather1['visib'], errors='coerce')"
   ]
  },
  {
   "cell_type": "code",
   "execution_count": 55,
   "metadata": {},
   "outputs": [],
   "source": [
    "weather1.loc[:, 'visib'] = pd.to_numeric(weather1['visib'], errors='coerce').astype('float')"
   ]
  },
  {
   "cell_type": "code",
   "execution_count": 56,
   "metadata": {},
   "outputs": [
    {
     "ename": "DataError",
     "evalue": "No numeric types to aggregate",
     "output_type": "error",
     "traceback": [
      "\u001b[1;31m---------------------------------------------------------------------------\u001b[0m",
      "\u001b[1;31mDataError\u001b[0m                                 Traceback (most recent call last)",
      "\u001b[1;32m<ipython-input-56-8ec859fce3a0>\u001b[0m in \u001b[0;36m<module>\u001b[1;34m\u001b[0m\n\u001b[0;32m      1\u001b[0m \u001b[1;31m# Group the data by the airport code and date, and calculate the mean values for each group\u001b[0m\u001b[1;33m\u001b[0m\u001b[1;33m\u001b[0m\u001b[1;33m\u001b[0m\u001b[0m\n\u001b[1;32m----> 2\u001b[1;33m mean_weather = weather1.groupby(['temp','dewp',                 \n\u001b[0m\u001b[0;32m      3\u001b[0m \u001b[1;34m'humid'\u001b[0m\u001b[1;33m,\u001b[0m\u001b[1;33m\u001b[0m\u001b[1;33m\u001b[0m\u001b[0m\n\u001b[0;32m      4\u001b[0m \u001b[1;34m'wind_dir'\u001b[0m\u001b[1;33m,\u001b[0m\u001b[1;33m\u001b[0m\u001b[1;33m\u001b[0m\u001b[0m\n\u001b[0;32m      5\u001b[0m \u001b[1;34m'wind_speed'\u001b[0m\u001b[1;33m,\u001b[0m\u001b[1;33m\u001b[0m\u001b[1;33m\u001b[0m\u001b[0m\n",
      "\u001b[1;32mE:\\Softwares\\lib\\site-packages\\pandas\\core\\groupby\\groupby.py\u001b[0m in \u001b[0;36mmean\u001b[1;34m(self, numeric_only)\u001b[0m\n\u001b[0;32m   1391\u001b[0m         \u001b[0mName\u001b[0m\u001b[1;33m:\u001b[0m \u001b[0mB\u001b[0m\u001b[1;33m,\u001b[0m \u001b[0mdtype\u001b[0m\u001b[1;33m:\u001b[0m \u001b[0mfloat64\u001b[0m\u001b[1;33m\u001b[0m\u001b[1;33m\u001b[0m\u001b[0m\n\u001b[0;32m   1392\u001b[0m         \"\"\"\n\u001b[1;32m-> 1393\u001b[1;33m         return self._cython_agg_general(\n\u001b[0m\u001b[0;32m   1394\u001b[0m             \u001b[1;34m\"mean\"\u001b[0m\u001b[1;33m,\u001b[0m\u001b[1;33m\u001b[0m\u001b[1;33m\u001b[0m\u001b[0m\n\u001b[0;32m   1395\u001b[0m             \u001b[0malt\u001b[0m\u001b[1;33m=\u001b[0m\u001b[1;32mlambda\u001b[0m \u001b[0mx\u001b[0m\u001b[1;33m,\u001b[0m \u001b[0maxis\u001b[0m\u001b[1;33m:\u001b[0m \u001b[0mSeries\u001b[0m\u001b[1;33m(\u001b[0m\u001b[0mx\u001b[0m\u001b[1;33m)\u001b[0m\u001b[1;33m.\u001b[0m\u001b[0mmean\u001b[0m\u001b[1;33m(\u001b[0m\u001b[0mnumeric_only\u001b[0m\u001b[1;33m=\u001b[0m\u001b[0mnumeric_only\u001b[0m\u001b[1;33m)\u001b[0m\u001b[1;33m,\u001b[0m\u001b[1;33m\u001b[0m\u001b[1;33m\u001b[0m\u001b[0m\n",
      "\u001b[1;32mE:\\Softwares\\lib\\site-packages\\pandas\\core\\groupby\\generic.py\u001b[0m in \u001b[0;36m_cython_agg_general\u001b[1;34m(self, how, alt, numeric_only, min_count)\u001b[0m\n\u001b[0;32m   1019\u001b[0m         \u001b[0mself\u001b[0m\u001b[1;33m,\u001b[0m \u001b[0mhow\u001b[0m\u001b[1;33m:\u001b[0m \u001b[0mstr\u001b[0m\u001b[1;33m,\u001b[0m \u001b[0malt\u001b[0m\u001b[1;33m=\u001b[0m\u001b[1;32mNone\u001b[0m\u001b[1;33m,\u001b[0m \u001b[0mnumeric_only\u001b[0m\u001b[1;33m:\u001b[0m \u001b[0mbool\u001b[0m \u001b[1;33m=\u001b[0m \u001b[1;32mTrue\u001b[0m\u001b[1;33m,\u001b[0m \u001b[0mmin_count\u001b[0m\u001b[1;33m:\u001b[0m \u001b[0mint\u001b[0m \u001b[1;33m=\u001b[0m \u001b[1;33m-\u001b[0m\u001b[1;36m1\u001b[0m\u001b[1;33m\u001b[0m\u001b[1;33m\u001b[0m\u001b[0m\n\u001b[0;32m   1020\u001b[0m     ) -> DataFrame:\n\u001b[1;32m-> 1021\u001b[1;33m         agg_blocks, agg_items = self._cython_agg_blocks(\n\u001b[0m\u001b[0;32m   1022\u001b[0m             \u001b[0mhow\u001b[0m\u001b[1;33m,\u001b[0m \u001b[0malt\u001b[0m\u001b[1;33m=\u001b[0m\u001b[0malt\u001b[0m\u001b[1;33m,\u001b[0m \u001b[0mnumeric_only\u001b[0m\u001b[1;33m=\u001b[0m\u001b[0mnumeric_only\u001b[0m\u001b[1;33m,\u001b[0m \u001b[0mmin_count\u001b[0m\u001b[1;33m=\u001b[0m\u001b[0mmin_count\u001b[0m\u001b[1;33m\u001b[0m\u001b[1;33m\u001b[0m\u001b[0m\n\u001b[0;32m   1023\u001b[0m         )\n",
      "\u001b[1;32mE:\\Softwares\\lib\\site-packages\\pandas\\core\\groupby\\generic.py\u001b[0m in \u001b[0;36m_cython_agg_blocks\u001b[1;34m(self, how, alt, numeric_only, min_count)\u001b[0m\n\u001b[0;32m   1128\u001b[0m \u001b[1;33m\u001b[0m\u001b[0m\n\u001b[0;32m   1129\u001b[0m         \u001b[1;32mif\u001b[0m \u001b[1;32mnot\u001b[0m \u001b[1;33m(\u001b[0m\u001b[0magg_blocks\u001b[0m \u001b[1;32mor\u001b[0m \u001b[0msplit_frames\u001b[0m\u001b[1;33m)\u001b[0m\u001b[1;33m:\u001b[0m\u001b[1;33m\u001b[0m\u001b[1;33m\u001b[0m\u001b[0m\n\u001b[1;32m-> 1130\u001b[1;33m             \u001b[1;32mraise\u001b[0m \u001b[0mDataError\u001b[0m\u001b[1;33m(\u001b[0m\u001b[1;34m\"No numeric types to aggregate\"\u001b[0m\u001b[1;33m)\u001b[0m\u001b[1;33m\u001b[0m\u001b[1;33m\u001b[0m\u001b[0m\n\u001b[0m\u001b[0;32m   1131\u001b[0m \u001b[1;33m\u001b[0m\u001b[0m\n\u001b[0;32m   1132\u001b[0m         \u001b[1;32mif\u001b[0m \u001b[0msplit_items\u001b[0m\u001b[1;33m:\u001b[0m\u001b[1;33m\u001b[0m\u001b[1;33m\u001b[0m\u001b[0m\n",
      "\u001b[1;31mDataError\u001b[0m: No numeric types to aggregate"
     ]
    }
   ],
   "source": [
    "# Group the data by the airport code and date, and calculate the mean values for each group\n",
    "mean_weather = weather1.groupby(['temp','dewp',                 \n",
    "'humid',                \n",
    "'wind_dir',           \n",
    "'wind_speed',           \n",
    "'wind_gust',            \n",
    "'precip',               \n",
    "'pressure',          \n",
    "'visib']).mean()"
   ]
  },
  {
   "cell_type": "code",
   "execution_count": 2,
   "metadata": {},
   "outputs": [],
   "source": [
    "import pandas as pd\n",
    "import numpy as np"
   ]
  },
  {
   "cell_type": "code",
   "execution_count": 3,
   "metadata": {},
   "outputs": [],
   "source": [
    "# Load the weather data into a DataFrame\n",
    "weather = pd.read_csv('weather.csv')"
   ]
  },
  {
   "cell_type": "code",
   "execution_count": 4,
   "metadata": {},
   "outputs": [
    {
     "name": "stdout",
     "output_type": "stream",
     "text": [
      "      origin        date hour_sched_dep   temp   dewp  humid  wind_dir  \\\n",
      "0        EWR  01-01-2013          00:00  37.04  21.92  53.97     230.0   \n",
      "1        EWR  01-01-2013          01:00  37.04  21.92  53.97     230.0   \n",
      "2        EWR  01-01-2013          02:00  37.94  21.92  52.09     230.0   \n",
      "3        EWR  01-01-2013          03:00  37.94  23.00  54.51     230.0   \n",
      "4        EWR  01-01-2013          04:00  37.94  24.08  57.04     240.0   \n",
      "...      ...         ...            ...    ...    ...    ...       ...   \n",
      "26125    LGA  12/30/2013          13:00  35.96  19.94  51.78     340.0   \n",
      "26126    LGA  12/30/2013          14:00  33.98  17.06  49.51     330.0   \n",
      "26127    LGA  12/30/2013          15:00  32.00  15.08  49.19     340.0   \n",
      "26128    LGA  12/30/2013          16:00  30.92  12.92  46.74     320.0   \n",
      "26129    LGA  12/30/2013          17:00  28.94  10.94  46.41     330.0   \n",
      "\n",
      "       wind_speed  wind_gust  precip  pressure  visib  \n",
      "0        10.35702  11.918651     0.0    1013.9   10.0  \n",
      "1        13.80936  15.891535     0.0    1013.0   10.0  \n",
      "2        12.65858  14.567241     0.0    1012.6   10.0  \n",
      "3        13.80936  15.891535     0.0    1012.7   10.0  \n",
      "4        14.96014  17.215830     0.0    1012.8   10.0  \n",
      "...           ...        ...     ...       ...    ...  \n",
      "26125    13.80936  15.891535     0.0    1017.1   10.0  \n",
      "26126    17.26170  19.864419     0.0    1018.8   10.0  \n",
      "26127    14.96014  17.215830     0.0    1019.5   10.0  \n",
      "26128    17.26170  19.864419     0.0    1019.9   10.0  \n",
      "26129    18.41248  21.188714     0.0    1020.9   10.0  \n",
      "\n",
      "[26130 rows x 12 columns]\n"
     ]
    }
   ],
   "source": [
    "print (weather)"
   ]
  },
  {
   "cell_type": "code",
   "execution_count": 5,
   "metadata": {},
   "outputs": [
    {
     "name": "stdout",
     "output_type": "stream",
     "text": [
      "origin               0\n",
      "date                 0\n",
      "hour_sched_dep       0\n",
      "temp                 1\n",
      "dewp                 1\n",
      "humid                1\n",
      "wind_dir           418\n",
      "wind_speed           3\n",
      "wind_gust            3\n",
      "precip               0\n",
      "pressure          2730\n",
      "visib                0\n",
      "dtype: int64\n"
     ]
    }
   ],
   "source": [
    "missing_values_weather= weather.isna().sum()\n",
    "print (missing_values_weather)"
   ]
  },
  {
   "cell_type": "code",
   "execution_count": 6,
   "metadata": {},
   "outputs": [
    {
     "name": "stdout",
     "output_type": "stream",
     "text": [
      "      origin        date hour_sched_dep   temp   dewp  humid  wind_dir  \\\n",
      "0        EWR  01-01-2013          00:00  37.04  21.92  53.97     230.0   \n",
      "1        EWR  01-01-2013          01:00  37.04  21.92  53.97     230.0   \n",
      "2        EWR  01-01-2013          02:00  37.94  21.92  52.09     230.0   \n",
      "3        EWR  01-01-2013          03:00  37.94  23.00  54.51     230.0   \n",
      "4        EWR  01-01-2013          04:00  37.94  24.08  57.04     240.0   \n",
      "...      ...         ...            ...    ...    ...    ...       ...   \n",
      "26125    LGA  12/30/2013          13:00  35.96  19.94  51.78     340.0   \n",
      "26126    LGA  12/30/2013          14:00  33.98  17.06  49.51     330.0   \n",
      "26127    LGA  12/30/2013          15:00  32.00  15.08  49.19     340.0   \n",
      "26128    LGA  12/30/2013          16:00  30.92  12.92  46.74     320.0   \n",
      "26129    LGA  12/30/2013          17:00  28.94  10.94  46.41     330.0   \n",
      "\n",
      "       wind_speed  wind_gust  precip  pressure  visib  \n",
      "0        10.35702  11.918651     0.0    1013.9   10.0  \n",
      "1        13.80936  15.891535     0.0    1013.0   10.0  \n",
      "2        12.65858  14.567241     0.0    1012.6   10.0  \n",
      "3        13.80936  15.891535     0.0    1012.7   10.0  \n",
      "4        14.96014  17.215830     0.0    1012.8   10.0  \n",
      "...           ...        ...     ...       ...    ...  \n",
      "26125    13.80936  15.891535     0.0    1017.1   10.0  \n",
      "26126    17.26170  19.864419     0.0    1018.8   10.0  \n",
      "26127    14.96014  17.215830     0.0    1019.5   10.0  \n",
      "26128    17.26170  19.864419     0.0    1019.9   10.0  \n",
      "26129    18.41248  21.188714     0.0    1020.9   10.0  \n",
      "\n",
      "[23021 rows x 12 columns]\n"
     ]
    }
   ],
   "source": [
    "weather1 = weather.dropna(subset=['temp', 'dewp', 'humid','wind_dir','wind_speed','wind_gust','pressure'])\n",
    "print(weather1)"
   ]
  },
  {
   "cell_type": "code",
   "execution_count": 6,
   "metadata": {},
   "outputs": [
    {
     "name": "stdout",
     "output_type": "stream",
     "text": [
      "Collecting findsparkNote: you may need to restart the kernel to use updated packages.\n",
      "\n",
      "  Downloading findspark-2.0.1-py2.py3-none-any.whl (4.4 kB)\n",
      "Installing collected packages: findspark\n",
      "Successfully installed findspark-2.0.1\n"
     ]
    }
   ],
   "source": [
    "pip install findspark"
   ]
  },
  {
   "cell_type": "code",
   "execution_count": 7,
   "metadata": {},
   "outputs": [],
   "source": [
    "import findspark\n",
    "findspark.init()"
   ]
  },
  {
   "cell_type": "code",
   "execution_count": 29,
   "metadata": {},
   "outputs": [],
   "source": [
    "# Group the data by the airport code and date, and calculate the mean values for each group\n",
    "mean_weather = weather.groupby(['temp', 'dewp', 'humid','wind_dir','wind_speed','wind_gust','precip','pressure']).mean()"
   ]
  },
  {
   "cell_type": "code",
   "execution_count": 7,
   "metadata": {},
   "outputs": [
    {
     "name": "stdout",
     "output_type": "stream",
     "text": [
      "      origin        date hour_sched_dep   temp   dewp  humid  wind_dir  \\\n",
      "0        EWR  01-01-2013          00:00  37.04  21.92  53.97     230.0   \n",
      "1        EWR  01-01-2013          01:00  37.04  21.92  53.97     230.0   \n",
      "2        EWR  01-01-2013          02:00  37.94  21.92  52.09     230.0   \n",
      "3        EWR  01-01-2013          03:00  37.94  23.00  54.51     230.0   \n",
      "4        EWR  01-01-2013          04:00  37.94  24.08  57.04     240.0   \n",
      "...      ...         ...            ...    ...    ...    ...       ...   \n",
      "26125    LGA  12/30/2013          13:00  35.96  19.94  51.78     340.0   \n",
      "26126    LGA  12/30/2013          14:00  33.98  17.06  49.51     330.0   \n",
      "26127    LGA  12/30/2013          15:00  32.00  15.08  49.19     340.0   \n",
      "26128    LGA  12/30/2013          16:00  30.92  12.92  46.74     320.0   \n",
      "26129    LGA  12/30/2013          17:00  28.94  10.94  46.41     330.0   \n",
      "\n",
      "       wind_speed  wind_gust  precip  pressure  visib  \n",
      "0        10.35702  11.918651     0.0    1013.9   10.0  \n",
      "1        13.80936  15.891535     0.0    1013.0   10.0  \n",
      "2        12.65858  14.567241     0.0    1012.6   10.0  \n",
      "3        13.80936  15.891535     0.0    1012.7   10.0  \n",
      "4        14.96014  17.215830     0.0    1012.8   10.0  \n",
      "...           ...        ...     ...       ...    ...  \n",
      "26125    13.80936  15.891535     0.0    1017.1   10.0  \n",
      "26126    17.26170  19.864419     0.0    1018.8   10.0  \n",
      "26127    14.96014  17.215830     0.0    1019.5   10.0  \n",
      "26128    17.26170  19.864419     0.0    1019.9   10.0  \n",
      "26129    18.41248  21.188714     0.0    1020.9   10.0  \n",
      "\n",
      "[23021 rows x 12 columns]\n"
     ]
    }
   ],
   "source": [
    "print(weather1)"
   ]
  },
  {
   "cell_type": "code",
   "execution_count": 30,
   "metadata": {},
   "outputs": [
    {
     "name": "stdout",
     "output_type": "stream",
     "text": [
      "                                                                   visib\n",
      "temp   dewp   humid wind_dir wind_speed wind_gust precip pressure       \n",
      "10.94  -4.00  50.19 270.0    10.35702   11.918651 0.0    1023.8     10.0\n",
      "                             11.50780   13.242946 0.0    1024.0     10.0\n",
      "12.02  -7.06  41.28 270.0    10.35702   11.918651 0.0    1023.7     10.0\n",
      "                    280.0    12.65858   14.567241 0.0    1023.7     10.0\n",
      "       -5.98  43.50 270.0    8.05546    9.270062  0.0    1023.5     10.0\n",
      "...                                                                  ...\n",
      "98.96   71.06 40.82 250.0    20.71404   23.837303 0.0    1011.0     10.0\n",
      "        71.96 42.09 240.0    16.11092   18.540125 0.0    1010.1      9.0\n",
      "                    260.0    18.41248   21.188714 0.0    1011.7     10.0\n",
      "100.04  66.02 33.23 300.0    9.20624    10.594357 0.0    1015.0     10.0\n",
      "        71.06 39.51 230.0    20.71404   23.837303 0.0    1009.4     10.0\n",
      "\n",
      "[22983 rows x 1 columns]\n"
     ]
    }
   ],
   "source": [
    "print(mean_weather)"
   ]
  },
  {
   "cell_type": "code",
   "execution_count": 18,
   "metadata": {},
   "outputs": [
    {
     "ename": "ValueError",
     "evalue": "cannot join with no overlapping index names",
     "output_type": "error",
     "traceback": [
      "\u001b[1;31m---------------------------------------------------------------------------\u001b[0m",
      "\u001b[1;31mValueError\u001b[0m                                Traceback (most recent call last)",
      "\u001b[1;32m<ipython-input-18-25f52b476cf9>\u001b[0m in \u001b[0;36m<module>\u001b[1;34m\u001b[0m\n\u001b[0;32m      1\u001b[0m \u001b[1;31m# Fill in the missing values in the original DataFrame with the mean values from each group\u001b[0m\u001b[1;33m\u001b[0m\u001b[1;33m\u001b[0m\u001b[1;33m\u001b[0m\u001b[0m\n\u001b[1;32m----> 2\u001b[1;33m \u001b[0mweather1\u001b[0m \u001b[1;33m=\u001b[0m \u001b[0mweather\u001b[0m\u001b[1;33m.\u001b[0m\u001b[0mfillna\u001b[0m\u001b[1;33m(\u001b[0m\u001b[0mmean_weather\u001b[0m\u001b[1;33m)\u001b[0m\u001b[1;33m\u001b[0m\u001b[1;33m\u001b[0m\u001b[0m\n\u001b[0m",
      "\u001b[1;32mE:\\Softwares\\lib\\site-packages\\pandas\\core\\frame.py\u001b[0m in \u001b[0;36mfillna\u001b[1;34m(self, value, method, axis, inplace, limit, downcast)\u001b[0m\n\u001b[0;32m   4315\u001b[0m         \u001b[0mdowncast\u001b[0m\u001b[1;33m=\u001b[0m\u001b[1;32mNone\u001b[0m\u001b[1;33m,\u001b[0m\u001b[1;33m\u001b[0m\u001b[1;33m\u001b[0m\u001b[0m\n\u001b[0;32m   4316\u001b[0m     ) -> Optional[\"DataFrame\"]:\n\u001b[1;32m-> 4317\u001b[1;33m         return super().fillna(\n\u001b[0m\u001b[0;32m   4318\u001b[0m             \u001b[0mvalue\u001b[0m\u001b[1;33m=\u001b[0m\u001b[0mvalue\u001b[0m\u001b[1;33m,\u001b[0m\u001b[1;33m\u001b[0m\u001b[1;33m\u001b[0m\u001b[0m\n\u001b[0;32m   4319\u001b[0m             \u001b[0mmethod\u001b[0m\u001b[1;33m=\u001b[0m\u001b[0mmethod\u001b[0m\u001b[1;33m,\u001b[0m\u001b[1;33m\u001b[0m\u001b[1;33m\u001b[0m\u001b[0m\n",
      "\u001b[1;32mE:\\Softwares\\lib\\site-packages\\pandas\\core\\generic.py\u001b[0m in \u001b[0;36mfillna\u001b[1;34m(self, value, method, axis, inplace, limit, downcast)\u001b[0m\n\u001b[0;32m   6080\u001b[0m                 )\n\u001b[0;32m   6081\u001b[0m             \u001b[1;32melif\u001b[0m \u001b[0misinstance\u001b[0m\u001b[1;33m(\u001b[0m\u001b[0mvalue\u001b[0m\u001b[1;33m,\u001b[0m \u001b[0mABCDataFrame\u001b[0m\u001b[1;33m)\u001b[0m \u001b[1;32mand\u001b[0m \u001b[0mself\u001b[0m\u001b[1;33m.\u001b[0m\u001b[0mndim\u001b[0m \u001b[1;33m==\u001b[0m \u001b[1;36m2\u001b[0m\u001b[1;33m:\u001b[0m\u001b[1;33m\u001b[0m\u001b[1;33m\u001b[0m\u001b[0m\n\u001b[1;32m-> 6082\u001b[1;33m                 \u001b[0mnew_data\u001b[0m \u001b[1;33m=\u001b[0m \u001b[0mself\u001b[0m\u001b[1;33m.\u001b[0m\u001b[0mwhere\u001b[0m\u001b[1;33m(\u001b[0m\u001b[0mself\u001b[0m\u001b[1;33m.\u001b[0m\u001b[0mnotna\u001b[0m\u001b[1;33m(\u001b[0m\u001b[1;33m)\u001b[0m\u001b[1;33m,\u001b[0m \u001b[0mvalue\u001b[0m\u001b[1;33m)\u001b[0m\u001b[1;33m.\u001b[0m\u001b[0m_data\u001b[0m\u001b[1;33m\u001b[0m\u001b[1;33m\u001b[0m\u001b[0m\n\u001b[0m\u001b[0;32m   6083\u001b[0m             \u001b[1;32melse\u001b[0m\u001b[1;33m:\u001b[0m\u001b[1;33m\u001b[0m\u001b[1;33m\u001b[0m\u001b[0m\n\u001b[0;32m   6084\u001b[0m                 \u001b[1;32mraise\u001b[0m \u001b[0mValueError\u001b[0m\u001b[1;33m(\u001b[0m\u001b[1;34mf\"invalid fill value with a {type(value)}\"\u001b[0m\u001b[1;33m)\u001b[0m\u001b[1;33m\u001b[0m\u001b[1;33m\u001b[0m\u001b[0m\n",
      "\u001b[1;32mE:\\Softwares\\lib\\site-packages\\pandas\\core\\generic.py\u001b[0m in \u001b[0;36mwhere\u001b[1;34m(self, cond, other, inplace, axis, level, errors, try_cast)\u001b[0m\n\u001b[0;32m   9002\u001b[0m         \"\"\"\n\u001b[0;32m   9003\u001b[0m         \u001b[0mother\u001b[0m \u001b[1;33m=\u001b[0m \u001b[0mcom\u001b[0m\u001b[1;33m.\u001b[0m\u001b[0mapply_if_callable\u001b[0m\u001b[1;33m(\u001b[0m\u001b[0mother\u001b[0m\u001b[1;33m,\u001b[0m \u001b[0mself\u001b[0m\u001b[1;33m)\u001b[0m\u001b[1;33m\u001b[0m\u001b[1;33m\u001b[0m\u001b[0m\n\u001b[1;32m-> 9004\u001b[1;33m         return self._where(\n\u001b[0m\u001b[0;32m   9005\u001b[0m             \u001b[0mcond\u001b[0m\u001b[1;33m,\u001b[0m \u001b[0mother\u001b[0m\u001b[1;33m,\u001b[0m \u001b[0minplace\u001b[0m\u001b[1;33m,\u001b[0m \u001b[0maxis\u001b[0m\u001b[1;33m,\u001b[0m \u001b[0mlevel\u001b[0m\u001b[1;33m,\u001b[0m \u001b[0merrors\u001b[0m\u001b[1;33m=\u001b[0m\u001b[0merrors\u001b[0m\u001b[1;33m,\u001b[0m \u001b[0mtry_cast\u001b[0m\u001b[1;33m=\u001b[0m\u001b[0mtry_cast\u001b[0m\u001b[1;33m\u001b[0m\u001b[1;33m\u001b[0m\u001b[0m\n\u001b[0;32m   9006\u001b[0m         )\n",
      "\u001b[1;32mE:\\Softwares\\lib\\site-packages\\pandas\\core\\generic.py\u001b[0m in \u001b[0;36m_where\u001b[1;34m(self, cond, other, inplace, axis, level, errors, try_cast)\u001b[0m\n\u001b[0;32m   8778\u001b[0m             \u001b[1;32mif\u001b[0m \u001b[0mother\u001b[0m\u001b[1;33m.\u001b[0m\u001b[0mndim\u001b[0m \u001b[1;33m<=\u001b[0m \u001b[0mself\u001b[0m\u001b[1;33m.\u001b[0m\u001b[0mndim\u001b[0m\u001b[1;33m:\u001b[0m\u001b[1;33m\u001b[0m\u001b[1;33m\u001b[0m\u001b[0m\n\u001b[0;32m   8779\u001b[0m \u001b[1;33m\u001b[0m\u001b[0m\n\u001b[1;32m-> 8780\u001b[1;33m                 _, other = self.align(\n\u001b[0m\u001b[0;32m   8781\u001b[0m                     \u001b[0mother\u001b[0m\u001b[1;33m,\u001b[0m \u001b[0mjoin\u001b[0m\u001b[1;33m=\u001b[0m\u001b[1;34m\"left\"\u001b[0m\u001b[1;33m,\u001b[0m \u001b[0maxis\u001b[0m\u001b[1;33m=\u001b[0m\u001b[0maxis\u001b[0m\u001b[1;33m,\u001b[0m \u001b[0mlevel\u001b[0m\u001b[1;33m=\u001b[0m\u001b[0mlevel\u001b[0m\u001b[1;33m,\u001b[0m \u001b[0mfill_value\u001b[0m\u001b[1;33m=\u001b[0m\u001b[0mnp\u001b[0m\u001b[1;33m.\u001b[0m\u001b[0mnan\u001b[0m\u001b[1;33m\u001b[0m\u001b[1;33m\u001b[0m\u001b[0m\n\u001b[0;32m   8782\u001b[0m                 )\n",
      "\u001b[1;32mE:\\Softwares\\lib\\site-packages\\pandas\\core\\frame.py\u001b[0m in \u001b[0;36malign\u001b[1;34m(self, other, join, axis, level, copy, fill_value, method, limit, fill_axis, broadcast_axis)\u001b[0m\n\u001b[0;32m   3956\u001b[0m         \u001b[0mbroadcast_axis\u001b[0m\u001b[1;33m=\u001b[0m\u001b[1;32mNone\u001b[0m\u001b[1;33m,\u001b[0m\u001b[1;33m\u001b[0m\u001b[1;33m\u001b[0m\u001b[0m\n\u001b[0;32m   3957\u001b[0m     ) -> \"DataFrame\":\n\u001b[1;32m-> 3958\u001b[1;33m         return super().align(\n\u001b[0m\u001b[0;32m   3959\u001b[0m             \u001b[0mother\u001b[0m\u001b[1;33m,\u001b[0m\u001b[1;33m\u001b[0m\u001b[1;33m\u001b[0m\u001b[0m\n\u001b[0;32m   3960\u001b[0m             \u001b[0mjoin\u001b[0m\u001b[1;33m=\u001b[0m\u001b[0mjoin\u001b[0m\u001b[1;33m,\u001b[0m\u001b[1;33m\u001b[0m\u001b[1;33m\u001b[0m\u001b[0m\n",
      "\u001b[1;32mE:\\Softwares\\lib\\site-packages\\pandas\\core\\generic.py\u001b[0m in \u001b[0;36malign\u001b[1;34m(self, other, join, axis, level, copy, fill_value, method, limit, fill_axis, broadcast_axis)\u001b[0m\n\u001b[0;32m   8545\u001b[0m             \u001b[0maxis\u001b[0m \u001b[1;33m=\u001b[0m \u001b[0mself\u001b[0m\u001b[1;33m.\u001b[0m\u001b[0m_get_axis_number\u001b[0m\u001b[1;33m(\u001b[0m\u001b[0maxis\u001b[0m\u001b[1;33m)\u001b[0m\u001b[1;33m\u001b[0m\u001b[1;33m\u001b[0m\u001b[0m\n\u001b[0;32m   8546\u001b[0m         \u001b[1;32mif\u001b[0m \u001b[0misinstance\u001b[0m\u001b[1;33m(\u001b[0m\u001b[0mother\u001b[0m\u001b[1;33m,\u001b[0m \u001b[0mABCDataFrame\u001b[0m\u001b[1;33m)\u001b[0m\u001b[1;33m:\u001b[0m\u001b[1;33m\u001b[0m\u001b[1;33m\u001b[0m\u001b[0m\n\u001b[1;32m-> 8547\u001b[1;33m             return self._align_frame(\n\u001b[0m\u001b[0;32m   8548\u001b[0m                 \u001b[0mother\u001b[0m\u001b[1;33m,\u001b[0m\u001b[1;33m\u001b[0m\u001b[1;33m\u001b[0m\u001b[0m\n\u001b[0;32m   8549\u001b[0m                 \u001b[0mjoin\u001b[0m\u001b[1;33m=\u001b[0m\u001b[0mjoin\u001b[0m\u001b[1;33m,\u001b[0m\u001b[1;33m\u001b[0m\u001b[1;33m\u001b[0m\u001b[0m\n",
      "\u001b[1;32mE:\\Softwares\\lib\\site-packages\\pandas\\core\\generic.py\u001b[0m in \u001b[0;36m_align_frame\u001b[1;34m(self, other, join, axis, level, copy, fill_value, method, limit, fill_axis)\u001b[0m\n\u001b[0;32m   8592\u001b[0m         \u001b[1;32mif\u001b[0m \u001b[0maxis\u001b[0m \u001b[1;32mis\u001b[0m \u001b[1;32mNone\u001b[0m \u001b[1;32mor\u001b[0m \u001b[0maxis\u001b[0m \u001b[1;33m==\u001b[0m \u001b[1;36m0\u001b[0m\u001b[1;33m:\u001b[0m\u001b[1;33m\u001b[0m\u001b[1;33m\u001b[0m\u001b[0m\n\u001b[0;32m   8593\u001b[0m             \u001b[1;32mif\u001b[0m \u001b[1;32mnot\u001b[0m \u001b[0mself\u001b[0m\u001b[1;33m.\u001b[0m\u001b[0mindex\u001b[0m\u001b[1;33m.\u001b[0m\u001b[0mequals\u001b[0m\u001b[1;33m(\u001b[0m\u001b[0mother\u001b[0m\u001b[1;33m.\u001b[0m\u001b[0mindex\u001b[0m\u001b[1;33m)\u001b[0m\u001b[1;33m:\u001b[0m\u001b[1;33m\u001b[0m\u001b[1;33m\u001b[0m\u001b[0m\n\u001b[1;32m-> 8594\u001b[1;33m                 join_index, ilidx, iridx = self.index.join(\n\u001b[0m\u001b[0;32m   8595\u001b[0m                     \u001b[0mother\u001b[0m\u001b[1;33m.\u001b[0m\u001b[0mindex\u001b[0m\u001b[1;33m,\u001b[0m \u001b[0mhow\u001b[0m\u001b[1;33m=\u001b[0m\u001b[0mjoin\u001b[0m\u001b[1;33m,\u001b[0m \u001b[0mlevel\u001b[0m\u001b[1;33m=\u001b[0m\u001b[0mlevel\u001b[0m\u001b[1;33m,\u001b[0m \u001b[0mreturn_indexers\u001b[0m\u001b[1;33m=\u001b[0m\u001b[1;32mTrue\u001b[0m\u001b[1;33m\u001b[0m\u001b[1;33m\u001b[0m\u001b[0m\n\u001b[0;32m   8596\u001b[0m                 )\n",
      "\u001b[1;32mE:\\Softwares\\lib\\site-packages\\pandas\\core\\indexes\\range.py\u001b[0m in \u001b[0;36mjoin\u001b[1;34m(self, other, how, level, return_indexers, sort)\u001b[0m\n\u001b[0;32m    630\u001b[0m             \u001b[1;32mreturn\u001b[0m \u001b[0mself\u001b[0m\u001b[1;33m.\u001b[0m\u001b[0m_int64index\u001b[0m\u001b[1;33m.\u001b[0m\u001b[0mjoin\u001b[0m\u001b[1;33m(\u001b[0m\u001b[0mother\u001b[0m\u001b[1;33m,\u001b[0m \u001b[0mhow\u001b[0m\u001b[1;33m,\u001b[0m \u001b[0mlevel\u001b[0m\u001b[1;33m,\u001b[0m \u001b[0mreturn_indexers\u001b[0m\u001b[1;33m,\u001b[0m \u001b[0msort\u001b[0m\u001b[1;33m)\u001b[0m\u001b[1;33m\u001b[0m\u001b[1;33m\u001b[0m\u001b[0m\n\u001b[0;32m    631\u001b[0m \u001b[1;33m\u001b[0m\u001b[0m\n\u001b[1;32m--> 632\u001b[1;33m         \u001b[1;32mreturn\u001b[0m \u001b[0msuper\u001b[0m\u001b[1;33m(\u001b[0m\u001b[1;33m)\u001b[0m\u001b[1;33m.\u001b[0m\u001b[0mjoin\u001b[0m\u001b[1;33m(\u001b[0m\u001b[0mother\u001b[0m\u001b[1;33m,\u001b[0m \u001b[0mhow\u001b[0m\u001b[1;33m,\u001b[0m \u001b[0mlevel\u001b[0m\u001b[1;33m,\u001b[0m \u001b[0mreturn_indexers\u001b[0m\u001b[1;33m,\u001b[0m \u001b[0msort\u001b[0m\u001b[1;33m)\u001b[0m\u001b[1;33m\u001b[0m\u001b[1;33m\u001b[0m\u001b[0m\n\u001b[0m\u001b[0;32m    633\u001b[0m \u001b[1;33m\u001b[0m\u001b[0m\n\u001b[0;32m    634\u001b[0m     \u001b[1;32mdef\u001b[0m \u001b[0m_concat\u001b[0m\u001b[1;33m(\u001b[0m\u001b[0mself\u001b[0m\u001b[1;33m,\u001b[0m \u001b[0mindexes\u001b[0m\u001b[1;33m,\u001b[0m \u001b[0mname\u001b[0m\u001b[1;33m)\u001b[0m\u001b[1;33m:\u001b[0m\u001b[1;33m\u001b[0m\u001b[1;33m\u001b[0m\u001b[0m\n",
      "\u001b[1;32mE:\\Softwares\\lib\\site-packages\\pandas\\core\\indexes\\base.py\u001b[0m in \u001b[0;36mjoin\u001b[1;34m(self, other, how, level, return_indexers, sort)\u001b[0m\n\u001b[0;32m   3444\u001b[0m                 \u001b[1;32mpass\u001b[0m\u001b[1;33m\u001b[0m\u001b[1;33m\u001b[0m\u001b[0m\n\u001b[0;32m   3445\u001b[0m             \u001b[1;32melse\u001b[0m\u001b[1;33m:\u001b[0m\u001b[1;33m\u001b[0m\u001b[1;33m\u001b[0m\u001b[0m\n\u001b[1;32m-> 3446\u001b[1;33m                 \u001b[1;32mreturn\u001b[0m \u001b[0mself\u001b[0m\u001b[1;33m.\u001b[0m\u001b[0m_join_multi\u001b[0m\u001b[1;33m(\u001b[0m\u001b[0mother\u001b[0m\u001b[1;33m,\u001b[0m \u001b[0mhow\u001b[0m\u001b[1;33m=\u001b[0m\u001b[0mhow\u001b[0m\u001b[1;33m,\u001b[0m \u001b[0mreturn_indexers\u001b[0m\u001b[1;33m=\u001b[0m\u001b[0mreturn_indexers\u001b[0m\u001b[1;33m)\u001b[0m\u001b[1;33m\u001b[0m\u001b[1;33m\u001b[0m\u001b[0m\n\u001b[0m\u001b[0;32m   3447\u001b[0m \u001b[1;33m\u001b[0m\u001b[0m\n\u001b[0;32m   3448\u001b[0m         \u001b[1;31m# join on the level\u001b[0m\u001b[1;33m\u001b[0m\u001b[1;33m\u001b[0m\u001b[1;33m\u001b[0m\u001b[0m\n",
      "\u001b[1;32mE:\\Softwares\\lib\\site-packages\\pandas\\core\\indexes\\base.py\u001b[0m in \u001b[0;36m_join_multi\u001b[1;34m(self, other, how, return_indexers)\u001b[0m\n\u001b[0;32m   3546\u001b[0m         \u001b[1;31m# need at least 1 in common\u001b[0m\u001b[1;33m\u001b[0m\u001b[1;33m\u001b[0m\u001b[1;33m\u001b[0m\u001b[0m\n\u001b[0;32m   3547\u001b[0m         \u001b[1;32mif\u001b[0m \u001b[1;32mnot\u001b[0m \u001b[0moverlap\u001b[0m\u001b[1;33m:\u001b[0m\u001b[1;33m\u001b[0m\u001b[1;33m\u001b[0m\u001b[0m\n\u001b[1;32m-> 3548\u001b[1;33m             \u001b[1;32mraise\u001b[0m \u001b[0mValueError\u001b[0m\u001b[1;33m(\u001b[0m\u001b[1;34m\"cannot join with no overlapping index names\"\u001b[0m\u001b[1;33m)\u001b[0m\u001b[1;33m\u001b[0m\u001b[1;33m\u001b[0m\u001b[0m\n\u001b[0m\u001b[0;32m   3549\u001b[0m \u001b[1;33m\u001b[0m\u001b[0m\n\u001b[0;32m   3550\u001b[0m         \u001b[0mself_is_mi\u001b[0m \u001b[1;33m=\u001b[0m \u001b[0misinstance\u001b[0m\u001b[1;33m(\u001b[0m\u001b[0mself\u001b[0m\u001b[1;33m,\u001b[0m \u001b[0mABCMultiIndex\u001b[0m\u001b[1;33m)\u001b[0m\u001b[1;33m\u001b[0m\u001b[1;33m\u001b[0m\u001b[0m\n",
      "\u001b[1;31mValueError\u001b[0m: cannot join with no overlapping index names"
     ]
    }
   ],
   "source": [
    "# # Fill in the missing values in the original DataFrame with the mean values from each group\n",
    "# weather1 = weather.fillna(mean_weather)"
   ]
  },
  {
   "cell_type": "code",
   "execution_count": 33,
   "metadata": {},
   "outputs": [
    {
     "name": "stdout",
     "output_type": "stream",
     "text": [
      "      origin        date hour_sched_dep   temp   dewp  humid  wind_dir  \\\n",
      "0        EWR  01-01-2013          00:00  37.04  21.92  53.97     230.0   \n",
      "1        EWR  01-01-2013          01:00  37.04  21.92  53.97     230.0   \n",
      "2        EWR  01-01-2013          02:00  37.94  21.92  52.09     230.0   \n",
      "3        EWR  01-01-2013          03:00  37.94  23.00  54.51     230.0   \n",
      "4        EWR  01-01-2013          04:00  37.94  24.08  57.04     240.0   \n",
      "...      ...         ...            ...    ...    ...    ...       ...   \n",
      "26125    LGA  12/30/2013          13:00  35.96  19.94  51.78     340.0   \n",
      "26126    LGA  12/30/2013          14:00  33.98  17.06  49.51     330.0   \n",
      "26127    LGA  12/30/2013          15:00  32.00  15.08  49.19     340.0   \n",
      "26128    LGA  12/30/2013          16:00  30.92  12.92  46.74     320.0   \n",
      "26129    LGA  12/30/2013          17:00  28.94  10.94  46.41     330.0   \n",
      "\n",
      "       wind_speed  wind_gust  precip  pressure  visib  \n",
      "0        10.35702  11.918651     0.0    1013.9   10.0  \n",
      "1        13.80936  15.891535     0.0    1013.0   10.0  \n",
      "2        12.65858  14.567241     0.0    1012.6   10.0  \n",
      "3        13.80936  15.891535     0.0    1012.7   10.0  \n",
      "4        14.96014  17.215830     0.0    1012.8   10.0  \n",
      "...           ...        ...     ...       ...    ...  \n",
      "26125    13.80936  15.891535     0.0    1017.1   10.0  \n",
      "26126    17.26170  19.864419     0.0    1018.8   10.0  \n",
      "26127    14.96014  17.215830     0.0    1019.5   10.0  \n",
      "26128    17.26170  19.864419     0.0    1019.9   10.0  \n",
      "26129    18.41248  21.188714     0.0    1020.9   10.0  \n",
      "\n",
      "[26130 rows x 12 columns]\n"
     ]
    }
   ],
   "source": [
    "import pandas as pd\n",
    "\n",
    "\n",
    "\n",
    "# use fillna() to replace missing values with the mean of each column\n",
    "weather1 = weather.fillna(weather.apply(lambda x: mean_weather.mean()))\n",
    "\n",
    "print(weather1)\n",
    "\n"
   ]
  },
  {
   "cell_type": "code",
   "execution_count": 15,
   "metadata": {},
   "outputs": [
    {
     "name": "stdout",
     "output_type": "stream",
     "text": [
      "origin               0\n",
      "date                 0\n",
      "hour_sched_dep       0\n",
      "temp                 1\n",
      "dewp                 1\n",
      "humid                1\n",
      "wind_dir           418\n",
      "wind_speed           3\n",
      "wind_gust            3\n",
      "precip               0\n",
      "pressure          2730\n",
      "visib                0\n",
      "dtype: int64\n"
     ]
    }
   ],
   "source": [
    "missing_values_weather1= weather1.isna().sum()\n",
    "print (missing_values_weather1)"
   ]
  },
  {
   "cell_type": "code",
   "execution_count": 19,
   "metadata": {},
   "outputs": [
    {
     "ename": "SyntaxError",
     "evalue": "invalid syntax (<ipython-input-19-681f0dccc9c2>, line 1)",
     "output_type": "error",
     "traceback": [
      "\u001b[1;36m  File \u001b[1;32m\"<ipython-input-19-681f0dccc9c2>\"\u001b[1;36m, line \u001b[1;32m1\u001b[0m\n\u001b[1;33m    info.(weather)\u001b[0m\n\u001b[1;37m         ^\u001b[0m\n\u001b[1;31mSyntaxError\u001b[0m\u001b[1;31m:\u001b[0m invalid syntax\n"
     ]
    }
   ],
   "source": [
    "info.(weather)"
   ]
  },
  {
   "cell_type": "code",
   "execution_count": 20,
   "metadata": {},
   "outputs": [
    {
     "name": "stdout",
     "output_type": "stream",
     "text": [
      "<class 'pandas.core.frame.DataFrame'>\n",
      "RangeIndex: 26130 entries, 0 to 26129\n",
      "Data columns (total 12 columns):\n",
      " #   Column          Non-Null Count  Dtype  \n",
      "---  ------          --------------  -----  \n",
      " 0   origin          26130 non-null  object \n",
      " 1   date            26130 non-null  object \n",
      " 2   hour_sched_dep  26130 non-null  object \n",
      " 3   temp            26129 non-null  float64\n",
      " 4   dewp            26129 non-null  float64\n",
      " 5   humid           26129 non-null  float64\n",
      " 6   wind_dir        25712 non-null  float64\n",
      " 7   wind_speed      26127 non-null  float64\n",
      " 8   wind_gust       26127 non-null  float64\n",
      " 9   precip          26130 non-null  float64\n",
      " 10  pressure        23400 non-null  float64\n",
      " 11  visib           26130 non-null  float64\n",
      "dtypes: float64(9), object(3)\n",
      "memory usage: 2.4+ MB\n"
     ]
    }
   ],
   "source": [
    "weather.info()"
   ]
  },
  {
   "cell_type": "code",
   "execution_count": 26,
   "metadata": {},
   "outputs": [],
   "source": [
    "# convert_type ={'visib': int}\n",
    "# weather\n",
    "weather.loc[:, 'visib'] = pd.to_numeric(weather['visib'], errors='coerce').astype('float64')"
   ]
  },
  {
   "cell_type": "code",
   "execution_count": 27,
   "metadata": {},
   "outputs": [
    {
     "name": "stdout",
     "output_type": "stream",
     "text": [
      "<class 'pandas.core.frame.DataFrame'>\n",
      "RangeIndex: 26130 entries, 0 to 26129\n",
      "Data columns (total 12 columns):\n",
      " #   Column          Non-Null Count  Dtype  \n",
      "---  ------          --------------  -----  \n",
      " 0   origin          26130 non-null  object \n",
      " 1   date            26130 non-null  object \n",
      " 2   hour_sched_dep  26130 non-null  object \n",
      " 3   temp            26129 non-null  float64\n",
      " 4   dewp            26129 non-null  float64\n",
      " 5   humid           26129 non-null  float64\n",
      " 6   wind_dir        25712 non-null  float64\n",
      " 7   wind_speed      26127 non-null  float64\n",
      " 8   wind_gust       26127 non-null  float64\n",
      " 9   precip          26130 non-null  float64\n",
      " 10  pressure        23400 non-null  float64\n",
      " 11  visib           26130 non-null  float64\n",
      "dtypes: float64(9), object(3)\n",
      "memory usage: 2.4+ MB\n"
     ]
    }
   ],
   "source": [
    "weather.info()"
   ]
  },
  {
   "cell_type": "code",
   "execution_count": 28,
   "metadata": {},
   "outputs": [
    {
     "ename": "DataError",
     "evalue": "No numeric types to aggregate",
     "output_type": "error",
     "traceback": [
      "\u001b[1;31m---------------------------------------------------------------------------\u001b[0m",
      "\u001b[1;31mDataError\u001b[0m                                 Traceback (most recent call last)",
      "\u001b[1;32m<ipython-input-28-0d49badd7d31>\u001b[0m in \u001b[0;36m<module>\u001b[1;34m\u001b[0m\n\u001b[1;32m----> 1\u001b[1;33m \u001b[0mmean_weather\u001b[0m \u001b[1;33m=\u001b[0m \u001b[0mweather\u001b[0m\u001b[1;33m.\u001b[0m\u001b[0mgroupby\u001b[0m\u001b[1;33m(\u001b[0m\u001b[1;33m[\u001b[0m\u001b[1;34m'temp'\u001b[0m\u001b[1;33m,\u001b[0m \u001b[1;34m'dewp'\u001b[0m\u001b[1;33m,\u001b[0m \u001b[1;34m'humid'\u001b[0m\u001b[1;33m,\u001b[0m\u001b[1;34m'wind_dir'\u001b[0m\u001b[1;33m,\u001b[0m\u001b[1;34m'wind_speed'\u001b[0m\u001b[1;33m,\u001b[0m\u001b[1;34m'wind_gust'\u001b[0m\u001b[1;33m,\u001b[0m\u001b[1;34m'precip'\u001b[0m\u001b[1;33m,\u001b[0m\u001b[1;34m'pressure'\u001b[0m\u001b[1;33m,\u001b[0m\u001b[1;34m'visib'\u001b[0m\u001b[1;33m]\u001b[0m\u001b[1;33m)\u001b[0m\u001b[1;33m.\u001b[0m\u001b[0mmean\u001b[0m\u001b[1;33m(\u001b[0m\u001b[1;33m)\u001b[0m\u001b[1;33m\u001b[0m\u001b[1;33m\u001b[0m\u001b[0m\n\u001b[0m",
      "\u001b[1;32mE:\\Softwares\\lib\\site-packages\\pandas\\core\\groupby\\groupby.py\u001b[0m in \u001b[0;36mmean\u001b[1;34m(self, numeric_only)\u001b[0m\n\u001b[0;32m   1391\u001b[0m         \u001b[0mName\u001b[0m\u001b[1;33m:\u001b[0m \u001b[0mB\u001b[0m\u001b[1;33m,\u001b[0m \u001b[0mdtype\u001b[0m\u001b[1;33m:\u001b[0m \u001b[0mfloat64\u001b[0m\u001b[1;33m\u001b[0m\u001b[1;33m\u001b[0m\u001b[0m\n\u001b[0;32m   1392\u001b[0m         \"\"\"\n\u001b[1;32m-> 1393\u001b[1;33m         return self._cython_agg_general(\n\u001b[0m\u001b[0;32m   1394\u001b[0m             \u001b[1;34m\"mean\"\u001b[0m\u001b[1;33m,\u001b[0m\u001b[1;33m\u001b[0m\u001b[1;33m\u001b[0m\u001b[0m\n\u001b[0;32m   1395\u001b[0m             \u001b[0malt\u001b[0m\u001b[1;33m=\u001b[0m\u001b[1;32mlambda\u001b[0m \u001b[0mx\u001b[0m\u001b[1;33m,\u001b[0m \u001b[0maxis\u001b[0m\u001b[1;33m:\u001b[0m \u001b[0mSeries\u001b[0m\u001b[1;33m(\u001b[0m\u001b[0mx\u001b[0m\u001b[1;33m)\u001b[0m\u001b[1;33m.\u001b[0m\u001b[0mmean\u001b[0m\u001b[1;33m(\u001b[0m\u001b[0mnumeric_only\u001b[0m\u001b[1;33m=\u001b[0m\u001b[0mnumeric_only\u001b[0m\u001b[1;33m)\u001b[0m\u001b[1;33m,\u001b[0m\u001b[1;33m\u001b[0m\u001b[1;33m\u001b[0m\u001b[0m\n",
      "\u001b[1;32mE:\\Softwares\\lib\\site-packages\\pandas\\core\\groupby\\generic.py\u001b[0m in \u001b[0;36m_cython_agg_general\u001b[1;34m(self, how, alt, numeric_only, min_count)\u001b[0m\n\u001b[0;32m   1019\u001b[0m         \u001b[0mself\u001b[0m\u001b[1;33m,\u001b[0m \u001b[0mhow\u001b[0m\u001b[1;33m:\u001b[0m \u001b[0mstr\u001b[0m\u001b[1;33m,\u001b[0m \u001b[0malt\u001b[0m\u001b[1;33m=\u001b[0m\u001b[1;32mNone\u001b[0m\u001b[1;33m,\u001b[0m \u001b[0mnumeric_only\u001b[0m\u001b[1;33m:\u001b[0m \u001b[0mbool\u001b[0m \u001b[1;33m=\u001b[0m \u001b[1;32mTrue\u001b[0m\u001b[1;33m,\u001b[0m \u001b[0mmin_count\u001b[0m\u001b[1;33m:\u001b[0m \u001b[0mint\u001b[0m \u001b[1;33m=\u001b[0m \u001b[1;33m-\u001b[0m\u001b[1;36m1\u001b[0m\u001b[1;33m\u001b[0m\u001b[1;33m\u001b[0m\u001b[0m\n\u001b[0;32m   1020\u001b[0m     ) -> DataFrame:\n\u001b[1;32m-> 1021\u001b[1;33m         agg_blocks, agg_items = self._cython_agg_blocks(\n\u001b[0m\u001b[0;32m   1022\u001b[0m             \u001b[0mhow\u001b[0m\u001b[1;33m,\u001b[0m \u001b[0malt\u001b[0m\u001b[1;33m=\u001b[0m\u001b[0malt\u001b[0m\u001b[1;33m,\u001b[0m \u001b[0mnumeric_only\u001b[0m\u001b[1;33m=\u001b[0m\u001b[0mnumeric_only\u001b[0m\u001b[1;33m,\u001b[0m \u001b[0mmin_count\u001b[0m\u001b[1;33m=\u001b[0m\u001b[0mmin_count\u001b[0m\u001b[1;33m\u001b[0m\u001b[1;33m\u001b[0m\u001b[0m\n\u001b[0;32m   1023\u001b[0m         )\n",
      "\u001b[1;32mE:\\Softwares\\lib\\site-packages\\pandas\\core\\groupby\\generic.py\u001b[0m in \u001b[0;36m_cython_agg_blocks\u001b[1;34m(self, how, alt, numeric_only, min_count)\u001b[0m\n\u001b[0;32m   1128\u001b[0m \u001b[1;33m\u001b[0m\u001b[0m\n\u001b[0;32m   1129\u001b[0m         \u001b[1;32mif\u001b[0m \u001b[1;32mnot\u001b[0m \u001b[1;33m(\u001b[0m\u001b[0magg_blocks\u001b[0m \u001b[1;32mor\u001b[0m \u001b[0msplit_frames\u001b[0m\u001b[1;33m)\u001b[0m\u001b[1;33m:\u001b[0m\u001b[1;33m\u001b[0m\u001b[1;33m\u001b[0m\u001b[0m\n\u001b[1;32m-> 1130\u001b[1;33m             \u001b[1;32mraise\u001b[0m \u001b[0mDataError\u001b[0m\u001b[1;33m(\u001b[0m\u001b[1;34m\"No numeric types to aggregate\"\u001b[0m\u001b[1;33m)\u001b[0m\u001b[1;33m\u001b[0m\u001b[1;33m\u001b[0m\u001b[0m\n\u001b[0m\u001b[0;32m   1131\u001b[0m \u001b[1;33m\u001b[0m\u001b[0m\n\u001b[0;32m   1132\u001b[0m         \u001b[1;32mif\u001b[0m \u001b[0msplit_items\u001b[0m\u001b[1;33m:\u001b[0m\u001b[1;33m\u001b[0m\u001b[1;33m\u001b[0m\u001b[0m\n",
      "\u001b[1;31mDataError\u001b[0m: No numeric types to aggregate"
     ]
    }
   ],
   "source": [
    "mean_weather = weather.groupby(['temp', 'dewp', 'humid','wind_dir','wind_speed','wind_gust','precip','pressure','visib']).mean()"
   ]
  },
  {
   "cell_type": "code",
   "execution_count": 38,
   "metadata": {},
   "outputs": [],
   "source": [
    "weather1 = weather.fillna(weather.mean())"
   ]
  },
  {
   "cell_type": "code",
   "execution_count": 39,
   "metadata": {},
   "outputs": [
    {
     "data": {
      "text/plain": [
       "origin            0\n",
       "date              0\n",
       "hour_sched_dep    0\n",
       "temp              0\n",
       "dewp              0\n",
       "humid             0\n",
       "wind_dir          0\n",
       "wind_speed        0\n",
       "wind_gust         0\n",
       "precip            0\n",
       "pressure          0\n",
       "visib             0\n",
       "dtype: int64"
      ]
     },
     "execution_count": 39,
     "metadata": {},
     "output_type": "execute_result"
    }
   ],
   "source": [
    "weather1.isna().sum()\n",
    "# null_sum = weather1.isnull().sum(axis=1)\n",
    "# print(null_sum)\n"
   ]
  },
  {
   "cell_type": "code",
   "execution_count": 37,
   "metadata": {},
   "outputs": [
    {
     "name": "stdout",
     "output_type": "stream",
     "text": [
      "origin               0\n",
      "date                 0\n",
      "hour_sched_dep       0\n",
      "temp                 1\n",
      "dewp                 1\n",
      "humid                1\n",
      "wind_dir           418\n",
      "wind_speed           3\n",
      "wind_gust            3\n",
      "precip               0\n",
      "pressure          2730\n",
      "visib                0\n",
      "dtype: int64\n"
     ]
    }
   ],
   "source": [
    "null_summ = weather1.isna().sum()\n",
    "print(null_summ)"
   ]
  },
  {
   "cell_type": "code",
   "execution_count": null,
   "metadata": {},
   "outputs": [],
   "source": []
  }
 ],
 "metadata": {
  "kernelspec": {
   "display_name": "Python 3",
   "language": "python",
   "name": "python3"
  },
  "language_info": {
   "codemirror_mode": {
    "name": "ipython",
    "version": 3
   },
   "file_extension": ".py",
   "mimetype": "text/x-python",
   "name": "python",
   "nbconvert_exporter": "python",
   "pygments_lexer": "ipython3",
   "version": "3.8.5"
  }
 },
 "nbformat": 4,
 "nbformat_minor": 4
}
